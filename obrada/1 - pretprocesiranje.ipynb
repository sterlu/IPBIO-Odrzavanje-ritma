{
 "cells": [
  {
   "cell_type": "markdown",
   "metadata": {
    "collapsed": true,
    "pycharm": {
     "name": "#%% md\n"
    }
   },
   "source": [
    "# Predikcija održavanja sinusnog ritma posle godinu dana\n",
    "- Pronaći atribute značajne za predikciju uspešnosti održavanja sinusnog srčanog ritma godinu dana nakon obavljene elektrokonverzije u odnosu na kliničku sliku pacijenta, druge indikacije i dodeljenu terapiju\n",
    "- Konstruisati bajesovsku mrežu koja uključuje relevantne atribute i vrši predikciju uspešnosti održavanja sinusnog ritma godinu dana nakon elektrokonverzije\n",
    "- Testirati druge metode istraživanja podataka (neke od: SVM, neuronske mreže, stabla odlučivanja, logistička regresija) i uporediti sa uspešnosti predikcije korišćenjem bajesovske mreže"
   ]
  },
  {
   "cell_type": "code",
   "execution_count": 1,
   "metadata": {
    "pycharm": {
     "name": "#%%\n"
    }
   },
   "outputs": [],
   "source": [
    "import re\n",
    "\n",
    "import numpy as np\n",
    "import pandas as pd"
   ]
  },
  {
   "cell_type": "code",
   "execution_count": 2,
   "metadata": {
    "pycharm": {
     "name": "#%%\n"
    }
   },
   "outputs": [
    {
     "name": "stderr",
     "output_type": "stream",
     "text": [
      "/Users/sterlu/opt/miniconda3/envs/ml/lib/python3.9/site-packages/openpyxl/worksheet/_reader.py:312: UserWarning: Unknown extension is not supported and will be removed\n",
      "  warn(msg)\n"
     ]
    },
    {
     "data": {
      "text/plain": "     Broj            u                bazi  godine starosti  \\\n0                                        1               78   \n1                                        2               61   \n2                                        3               65   \n3                                        4               64   \n4                                        5               65   \n..                                     ...              ...   \n142                                    646               61   \n143                                    647               58   \n144                                    648               72   \n145                                    649               39   \n146                                    650               60   \n\n     stariji od 65 0 - ne 1 - da  Pol            (muski -1) (zenski -2)  \\\n0                              1                                      1   \n1                              0                                      1   \n2                              1                                      1   \n3                              0                                      1   \n4                              1                                      2   \n..                           ...                                    ...   \n142                            0                                      1   \n143                            0                                      1   \n144                            1                                      2   \n145                            0                                      1   \n146                            0                                      1   \n\n    Datum elektrokonverzije  \\\n0                2014-01-21   \n1                2014-01-29   \n2                2014-02-10   \n3                2014-02-14   \n4                2014-03-06   \n..                      ...   \n142              2019-10-29   \n143              2019-10-31   \n144              2019-11-06   \n145              2019-11-27   \n146              2019-12-10   \n\n     indikacija: perzistentna        1 - atrijalna fibrilacija             2 - atrijalni flutter                  3 - atrijalna tahikardija  \\\n0                                                    1                                                                                        \n1                                                    2                                                                                        \n2                                                    1                                                                                        \n3                                                    1                                                                                        \n4                                                    1                                                                                        \n..                                                 ...                                                                                        \n142                                                  2                                                                                        \n143                                                  2                                                                                        \n144                                                  1                                                                                        \n145                                                  2                                                                                        \n146                                                  2                                                                                        \n\n    ukupno trajanje AF (kada je prvi put dijagnostikovana) u mesecima  \\\n0                                                    5                  \n1                                                   24                  \n2                                                    4                  \n3                                                24god                  \n4                                                 4god                  \n..                                                 ...                  \n142                                                  2                  \n143                                                 12                  \n144                                                 20                  \n145                                               4god                  \n146                                                 10                  \n\n    trajanje ove epizode AF u mesecima  \\\n0                                    5   \n1                                    1   \n2                                    4   \n3                                    2   \n4                                    3   \n..                                 ...   \n142                                  2   \n143                                  2   \n144                                 20   \n145                                  1   \n146                                 10   \n\n     frekvenca komora na prijemnom EKG-u            0 -  n/a (PM)                     1 - <50                                2 - 50-60                            3 - 60-70                            4 - 70-80                            5 - 80-90                            6 - 90-100                         7 - 100-110                        8 - 110-120                       9 - >120  \\\n0                                                    0                                                                                                                                                                                                                                                                                                                                              \n1                                                    7                                                                                                                                                                                                                                                                                                                                              \n2                                                    0                                                                                                                                                                                                                                                                                                                                              \n3                                                    7                                                                                                                                                                                                                                                                                                                                              \n4                                                    9                                                                                                                                                                                                                                                                                                                                              \n..                                                 ...                                                                                                                                                                                                                                                                                                                                              \n142                                                  0                                                                                                                                                                                                                                                                                                                                              \n143                                                  0                                                                                                                                                                                                                                                                                                                                              \n144                                                  6                                                                                                                                                                                                                                                                                                                                              \n145                                                  9                                                                                                                                                                                                                                                                                                                                              \n146                                                  0                                                                                                                                                                                                                                                                                                                                              \n\n      Blok grane                              (ne - 0)                                          (LBBB - 1) (RBBB - 2)    (PM - 3)  \\\n0                                                    3                                                                              \n1                                                    0                                                                              \n2                                                    3                                                                              \n3                                                    0                                                                              \n4                                                    0                                                                              \n..                                                 ...                                                                              \n142                                                  3                                                                              \n143                                                  3                                                                              \n144                                                  0                                                                              \n145                                                  0                                                                              \n146                                                  3                                                                              \n\n     ...  Amiodaron        (ne - 0)                               (da - 1).1  \\\n0    ...                                                1.0                    \n1    ...                                                0.0                    \n2    ...                                                1.0                    \n3    ...                                                1.0                    \n4    ...                                                1.0                    \n..   ...                                                ...                    \n142  ...                                                0.0                    \n143  ...                                                1.0                    \n144  ...                                                0.0                    \n145  ...                                                0.0                    \n146  ...                                                1.0                    \n\n     Propafen     (ne - 0)       (da - 1).1  \\\n0                                       0.0   \n1                                       1.0   \n2                                       0.0   \n3                                       0.0   \n4                                       0.0   \n..                                      ...   \n142                                     0.0   \n143                                     0.0   \n144                                     0.0   \n145                                     0.0   \n146                                     0.0   \n\n     Flekainid     (ne - 0)        (da - 1)  \\\n0                                       0.0   \n1                                       0.0   \n2                                       0.0   \n3                                       0.0   \n4                                       0.0   \n..                                      ...   \n142                                     0.0   \n143                                     0.0   \n144                                     0.0   \n145                                     1.0   \n146                                     0.0   \n\n     Sotalol         (ne - 0)       (da - 1)  \\\n0                                        0.0   \n1                                        0.0   \n2                                        0.0   \n3                                        0.0   \n4                                        0.0   \n..                                       ...   \n142                                      0.0   \n143                                      0.0   \n144                                      0.0   \n145                                      0.0   \n146                                      0.0   \n\n     Digoksin   (ne - 0)                               (da - 1).1  \\\n0                                                  0.0              \n1                                                  0.0              \n2                                                  0.0              \n3                                                  0.0              \n4                                                  0.0              \n..                                                 ...              \n142                                                0.0              \n143                                                0.0              \n144                                                0.0              \n145                                                0.0              \n146                                                0.0              \n\n     ASA        (ne - 0)                               (da - 1).1  \\\n0                                                  0.0              \n1                                                  0.0              \n2                                                  0.0              \n3                                                  0.0              \n4                                                  0.0              \n..                                                 ...              \n142                                                0.0              \n143                                                0.0              \n144                                                0.0              \n145                                                0.0              \n146                                                0.0              \n\n     OAKT                  (ne - 0)                               (da , varfarin - 1) (da, DOAC -2)  \\\n0                                                  1.0                                                \n1                                                  1.0                                                \n2                                                  1.0                                                \n3                                                  1.0                                                \n4                                                  1.0                                                \n..                                                 ...                                                \n142                                                1.0                                                \n143                                                2.0                                                \n144                                                2.0                                                \n145                                                2.0                                                \n146                                                1.0                                                \n\n     Plavix           ili        Brilique         ili                   …                (ne - 0)                               (da - 1)                 .1  \\\n0                                                  0.0                                                                                                        \n1                                                  0.0                                                                                                        \n2                                                  0.0                                                                                                        \n3                                                  0.0                                                                                                        \n4                                                  0.0                                                                                                        \n..                                                 ...                                                                                                        \n142                                                0.0                                                                                                        \n143                                                0.0                                                                                                        \n144                                                0.0                                                                                                        \n145                                                0.0                                                                                                        \n146                                                0.0                                                                                                        \n\n     Statin     (ne - 0)                               (da - 1).1  \\\n0                                                  0.0              \n1                                                  0.0              \n2                                                  0.0              \n3                                                  0.0              \n4                                                  1.0              \n..                                                 ...              \n142                                                0.0              \n143                                                1.0              \n144                                                0.0              \n145                                                0.0              \n146                                                1.0              \n\n     Održavanje sinusnog ritma nakon godinu dana               (0 - ne)                                      (1 - da)  \n0                                                  1.0                                                                 \n1                                                  0.0                                                                 \n2                                                  1.0                                                                 \n3                                                  0.0                                                                 \n4                                                  NaN                                                                 \n..                                                 ...                                                                 \n142                                                1.0                                                                 \n143                                                1.0                                                                 \n144                                                0.0                                                                 \n145                                                1.0                                                                 \n146                                                1.0                                                                 \n\n[147 rows x 72 columns]",
      "text/html": "<div>\n<style scoped>\n    .dataframe tbody tr th:only-of-type {\n        vertical-align: middle;\n    }\n\n    .dataframe tbody tr th {\n        vertical-align: top;\n    }\n\n    .dataframe thead th {\n        text-align: right;\n    }\n</style>\n<table border=\"1\" class=\"dataframe\">\n  <thead>\n    <tr style=\"text-align: right;\">\n      <th></th>\n      <th>Broj            u                bazi</th>\n      <th>godine starosti</th>\n      <th>stariji od 65 0 - ne 1 - da</th>\n      <th>Pol            (muski -1) (zenski -2)</th>\n      <th>Datum elektrokonverzije</th>\n      <th>indikacija: perzistentna        1 - atrijalna fibrilacija             2 - atrijalni flutter                  3 - atrijalna tahikardija</th>\n      <th>ukupno trajanje AF (kada je prvi put dijagnostikovana) u mesecima</th>\n      <th>trajanje ove epizode AF u mesecima</th>\n      <th>frekvenca komora na prijemnom EKG-u            0 -  n/a (PM)                     1 - &lt;50                                2 - 50-60                            3 - 60-70                            4 - 70-80                            5 - 80-90                            6 - 90-100                         7 - 100-110                        8 - 110-120                       9 - &gt;120</th>\n      <th>Blok grane                              (ne - 0)                                          (LBBB - 1) (RBBB - 2)    (PM - 3)</th>\n      <th>...</th>\n      <th>Amiodaron        (ne - 0)                               (da - 1).1</th>\n      <th>Propafen     (ne - 0)       (da - 1).1</th>\n      <th>Flekainid     (ne - 0)        (da - 1)</th>\n      <th>Sotalol         (ne - 0)       (da - 1)</th>\n      <th>Digoksin   (ne - 0)                               (da - 1).1</th>\n      <th>ASA        (ne - 0)                               (da - 1).1</th>\n      <th>OAKT                  (ne - 0)                               (da , varfarin - 1) (da, DOAC -2)</th>\n      <th>Plavix           ili        Brilique         ili                   …                (ne - 0)                               (da - 1)                 .1</th>\n      <th>Statin     (ne - 0)                               (da - 1).1</th>\n      <th>Održavanje sinusnog ritma nakon godinu dana               (0 - ne)                                      (1 - da)</th>\n    </tr>\n  </thead>\n  <tbody>\n    <tr>\n      <th>0</th>\n      <td>1</td>\n      <td>78</td>\n      <td>1</td>\n      <td>1</td>\n      <td>2014-01-21</td>\n      <td>1</td>\n      <td>5</td>\n      <td>5</td>\n      <td>0</td>\n      <td>3</td>\n      <td>...</td>\n      <td>1.0</td>\n      <td>0.0</td>\n      <td>0.0</td>\n      <td>0.0</td>\n      <td>0.0</td>\n      <td>0.0</td>\n      <td>1.0</td>\n      <td>0.0</td>\n      <td>0.0</td>\n      <td>1.0</td>\n    </tr>\n    <tr>\n      <th>1</th>\n      <td>2</td>\n      <td>61</td>\n      <td>0</td>\n      <td>1</td>\n      <td>2014-01-29</td>\n      <td>2</td>\n      <td>24</td>\n      <td>1</td>\n      <td>7</td>\n      <td>0</td>\n      <td>...</td>\n      <td>0.0</td>\n      <td>1.0</td>\n      <td>0.0</td>\n      <td>0.0</td>\n      <td>0.0</td>\n      <td>0.0</td>\n      <td>1.0</td>\n      <td>0.0</td>\n      <td>0.0</td>\n      <td>0.0</td>\n    </tr>\n    <tr>\n      <th>2</th>\n      <td>3</td>\n      <td>65</td>\n      <td>1</td>\n      <td>1</td>\n      <td>2014-02-10</td>\n      <td>1</td>\n      <td>4</td>\n      <td>4</td>\n      <td>0</td>\n      <td>3</td>\n      <td>...</td>\n      <td>1.0</td>\n      <td>0.0</td>\n      <td>0.0</td>\n      <td>0.0</td>\n      <td>0.0</td>\n      <td>0.0</td>\n      <td>1.0</td>\n      <td>0.0</td>\n      <td>0.0</td>\n      <td>1.0</td>\n    </tr>\n    <tr>\n      <th>3</th>\n      <td>4</td>\n      <td>64</td>\n      <td>0</td>\n      <td>1</td>\n      <td>2014-02-14</td>\n      <td>1</td>\n      <td>24god</td>\n      <td>2</td>\n      <td>7</td>\n      <td>0</td>\n      <td>...</td>\n      <td>1.0</td>\n      <td>0.0</td>\n      <td>0.0</td>\n      <td>0.0</td>\n      <td>0.0</td>\n      <td>0.0</td>\n      <td>1.0</td>\n      <td>0.0</td>\n      <td>0.0</td>\n      <td>0.0</td>\n    </tr>\n    <tr>\n      <th>4</th>\n      <td>5</td>\n      <td>65</td>\n      <td>1</td>\n      <td>2</td>\n      <td>2014-03-06</td>\n      <td>1</td>\n      <td>4god</td>\n      <td>3</td>\n      <td>9</td>\n      <td>0</td>\n      <td>...</td>\n      <td>1.0</td>\n      <td>0.0</td>\n      <td>0.0</td>\n      <td>0.0</td>\n      <td>0.0</td>\n      <td>0.0</td>\n      <td>1.0</td>\n      <td>0.0</td>\n      <td>1.0</td>\n      <td>NaN</td>\n    </tr>\n    <tr>\n      <th>...</th>\n      <td>...</td>\n      <td>...</td>\n      <td>...</td>\n      <td>...</td>\n      <td>...</td>\n      <td>...</td>\n      <td>...</td>\n      <td>...</td>\n      <td>...</td>\n      <td>...</td>\n      <td>...</td>\n      <td>...</td>\n      <td>...</td>\n      <td>...</td>\n      <td>...</td>\n      <td>...</td>\n      <td>...</td>\n      <td>...</td>\n      <td>...</td>\n      <td>...</td>\n      <td>...</td>\n    </tr>\n    <tr>\n      <th>142</th>\n      <td>646</td>\n      <td>61</td>\n      <td>0</td>\n      <td>1</td>\n      <td>2019-10-29</td>\n      <td>2</td>\n      <td>2</td>\n      <td>2</td>\n      <td>0</td>\n      <td>3</td>\n      <td>...</td>\n      <td>0.0</td>\n      <td>0.0</td>\n      <td>0.0</td>\n      <td>0.0</td>\n      <td>0.0</td>\n      <td>0.0</td>\n      <td>1.0</td>\n      <td>0.0</td>\n      <td>0.0</td>\n      <td>1.0</td>\n    </tr>\n    <tr>\n      <th>143</th>\n      <td>647</td>\n      <td>58</td>\n      <td>0</td>\n      <td>1</td>\n      <td>2019-10-31</td>\n      <td>2</td>\n      <td>12</td>\n      <td>2</td>\n      <td>0</td>\n      <td>3</td>\n      <td>...</td>\n      <td>1.0</td>\n      <td>0.0</td>\n      <td>0.0</td>\n      <td>0.0</td>\n      <td>0.0</td>\n      <td>0.0</td>\n      <td>2.0</td>\n      <td>0.0</td>\n      <td>1.0</td>\n      <td>1.0</td>\n    </tr>\n    <tr>\n      <th>144</th>\n      <td>648</td>\n      <td>72</td>\n      <td>1</td>\n      <td>2</td>\n      <td>2019-11-06</td>\n      <td>1</td>\n      <td>20</td>\n      <td>20</td>\n      <td>6</td>\n      <td>0</td>\n      <td>...</td>\n      <td>0.0</td>\n      <td>0.0</td>\n      <td>0.0</td>\n      <td>0.0</td>\n      <td>0.0</td>\n      <td>0.0</td>\n      <td>2.0</td>\n      <td>0.0</td>\n      <td>0.0</td>\n      <td>0.0</td>\n    </tr>\n    <tr>\n      <th>145</th>\n      <td>649</td>\n      <td>39</td>\n      <td>0</td>\n      <td>1</td>\n      <td>2019-11-27</td>\n      <td>2</td>\n      <td>4god</td>\n      <td>1</td>\n      <td>9</td>\n      <td>0</td>\n      <td>...</td>\n      <td>0.0</td>\n      <td>0.0</td>\n      <td>1.0</td>\n      <td>0.0</td>\n      <td>0.0</td>\n      <td>0.0</td>\n      <td>2.0</td>\n      <td>0.0</td>\n      <td>0.0</td>\n      <td>1.0</td>\n    </tr>\n    <tr>\n      <th>146</th>\n      <td>650</td>\n      <td>60</td>\n      <td>0</td>\n      <td>1</td>\n      <td>2019-12-10</td>\n      <td>2</td>\n      <td>10</td>\n      <td>10</td>\n      <td>0</td>\n      <td>3</td>\n      <td>...</td>\n      <td>1.0</td>\n      <td>0.0</td>\n      <td>0.0</td>\n      <td>0.0</td>\n      <td>0.0</td>\n      <td>0.0</td>\n      <td>1.0</td>\n      <td>0.0</td>\n      <td>1.0</td>\n      <td>1.0</td>\n    </tr>\n  </tbody>\n</table>\n<p>147 rows × 72 columns</p>\n</div>"
     },
     "execution_count": 2,
     "metadata": {},
     "output_type": "execute_result"
    }
   ],
   "source": [
    "# kolonu H zadrzavamo jer je koristimo pri konverziji kolone J\n",
    "data = pd.read_excel('././elektrokonverzija.xlsx', usecols='A,C:E,H,I:AH,AJ:BB,BE:BI,CE:CT,CW', nrows=147)\n",
    "data"
   ]
  },
  {
   "cell_type": "code",
   "execution_count": 3,
   "metadata": {
    "pycharm": {
     "name": "#%%\n"
    }
   },
   "outputs": [
    {
     "data": {
      "text/plain": "Index(['Broj', 'godine starosti', 'stariji od 65', 'Pol',\n       'Datum elektrokonverzije', 'indikacija: perzistentna',\n       'ukupno trajanje AF (kada je prvi put dijagnostikovana) u mesecima',\n       'trajanje ove epizode AF u mesecima',\n       'frekvenca komora na prijemnom EKG-u', 'Blok grane', 'dimenzija LPK',\n       'EDD LK', 'ESD LK', 'EF LK', 'MR', 'TR', 'HTA', 'DM', 'HLP', 'HOBP',\n       'pušenje', 'Hereditet za KVB', 'ishemijska bolest srca', 'HF',\n       'NYHA klasa (ukoliko ima HF)', 'Prethodni TIA/CVI', 'HBI', 'CHADS-Vasc',\n       'poremećaj f-je štitaste žlezde', 'dosadašnje elektrokonverzije 0 - ne',\n       'SCD (Structural heart disease)', 'Beta blokatori', 'ACE inhibitori',\n       'ARB', 'Furosemid (ne - 0)', 'Drugi diuretik', 'Spironolakton',\n       'Ca antagonisti', 'Amiodaron', 'Propafen', 'Flekainid', 'Sotalol',\n       'Digoksin', 'ASA', 'OAKT', 'vrednost INR 2-3', 'Plavix', 'Statin',\n       'Implantiran CIED 0 - ne',\n       'Vreme u mesecima od ugradnje aparata do elektrokonverzije',\n       'sinhroni, bifazni DC šok', 'Elektrokonverzija',\n       'jačina struje sa kojom je učinjena uspešna konverzija',\n       'uspešnom šoku je prethodilo neuspešnih šokova:',\n       'NEPOSREDNE KOMPLIKACIJE U VEZI SA ELEKTROKONVERZIJOM',\n       'Beta blokatori', 'ACE inhibitori', 'ARB', 'Furosemid (ne - 0)',\n       'Drugi diuretik', 'Spironolakton', 'Ca antagonisti', 'Amiodaron',\n       'Propafen', 'Flekainid', 'Sotalol', 'Digoksin', 'ASA', 'OAKT', 'Plavix',\n       'Statin', 'Održavanje sinusnog ritma nakon godinu dana'],\n      dtype='object')"
     },
     "execution_count": 3,
     "metadata": {},
     "output_type": "execute_result"
    }
   ],
   "source": [
    "def preimenuj(kol):\n",
    "    if kol.find('  ') != -1:\n",
    "        return kol[0:kol.find('  ')].strip()\n",
    "    if kol.find('0 - ') != -1:\n",
    "        return kol[0:kol.find('0 - ')].strip()\n",
    "    if kol.find('1 - ') != -1:\n",
    "        return kol[0:kol.find('1 - ')].strip()\n",
    "    return kol\n",
    "data.columns = data.columns.map(preimenuj)\n",
    "data.columns"
   ]
  },
  {
   "cell_type": "code",
   "execution_count": 4,
   "metadata": {
    "pycharm": {
     "name": "#%%\n"
    }
   },
   "outputs": [
    {
     "name": "stdout",
     "output_type": "stream",
     "text": [
      "Ukupno pacijenata: 147\n",
      "Pacijenata sa uspesnom el. konv. (relevantni podaci): (130, 72)\n",
      "Pacijenata sa odrzanim ritmom posle god. (pozitivan ishod): (50, 72)\n"
     ]
    }
   ],
   "source": [
    "print('Ukupno pacijenata:', data.shape[0])\n",
    "\n",
    "relevant_data = data[data['Elektrokonverzija'] < 3]\n",
    "print('Pacijenata sa uspesnom el. konv. (relevantni podaci):', relevant_data.shape)\n",
    "print('Pacijenata sa odrzanim ritmom posle god. (pozitivan ishod):', relevant_data[relevant_data['Održavanje sinusnog ritma nakon godinu dana'] == 1].shape)\n",
    "\n",
    "# relevant_data_2 = relevant_data[pd.isna(relevant_data['Broj dana do javljanja AF'])]\n",
    "# print('Pacijenata sa uspesnom el. konv. i posle mesec dana', relevant_data_2.shape[0])"
   ]
  },
  {
   "cell_type": "code",
   "execution_count": 5,
   "metadata": {
    "pycharm": {
     "name": "#%%\n"
    }
   },
   "outputs": [],
   "source": [
    "# pd.set_option(\"display.max_rows\", None, \"display.max_columns\", None)\n",
    "# relevant_data"
   ]
  },
  {
   "cell_type": "code",
   "execution_count": 6,
   "metadata": {
    "pycharm": {
     "name": "#%%\n"
    }
   },
   "outputs": [],
   "source": [
    "kolone_sa_mesanim_podacima = relevant_data.columns[np.where(relevant_data.dtypes == 'O')]\n",
    "# Sve 3 kolone podrazumevaju broj meseci\n"
   ]
  },
  {
   "cell_type": "code",
   "execution_count": 7,
   "metadata": {
    "pycharm": {
     "name": "#%%\n"
    }
   },
   "outputs": [],
   "source": [
    "from datetime import datetime\n",
    "import re\n",
    "\n",
    "def izdvoj_mesece_iz_niske(x, datum):\n",
    "    od_search = re.search('[oO]d[a-z ]*(\\d{4})', x.lower()) # na jednom mestu piše \"0d2010\" sa nulom\n",
    "    if od_search:\n",
    "        godina = od_search.group(1)\n",
    "        return (datum - datetime(int(godina), 1, 1)).days // 30\n",
    "\n",
    "    god_search = re.search('(\\d+)\\s*god', x.lower())\n",
    "    if god_search: return int(god_search.group(1)) * 12\n",
    "\n",
    "    mesec_search = re.search('(\\d+)\\s*mesec', x.lower())\n",
    "    if mesec_search: return int(mesec_search.group(1))\n",
    "\n",
    "    dan_search = re.search('(\\d+)\\s*dan', x.lower())\n",
    "    if dan_search: return int(dan_search.group(1)) // 30\n",
    "\n",
    "    return -1\n",
    "\n",
    "# print(izdvoj_mesece_iz_niske('od2002', datetime(2014, 1, 21)))\n",
    "# print(izdvoj_mesece_iz_niske('od 2004', datetime(2014, 1, 21)))\n",
    "# print(izdvoj_mesece_iz_niske('5god', datetime(2014, 1, 21)))\n",
    "# print(izdvoj_mesece_iz_niske('1 godina', datetime(2014, 1, 21)))"
   ]
  },
  {
   "cell_type": "code",
   "execution_count": 8,
   "metadata": {
    "pycharm": {
     "name": "#%%\n"
    }
   },
   "outputs": [],
   "source": [
    "pd.options.mode.chained_assignment = None # dobijamo upozorenja zbog relevant_data = data[...]\n",
    "for index, row in relevant_data.iterrows():\n",
    "    for col in kolone_sa_mesanim_podacima:\n",
    "        val = relevant_data.loc[index, col]\n",
    "        new_val = val\n",
    "        datum = row['Datum elektrokonverzije']\n",
    "        if isinstance(val, int):\n",
    "            continue\n",
    "        elif isinstance(val, datetime):\n",
    "            new_val = (datum - val).days // 30\n",
    "        elif isinstance(val, str):\n",
    "            new_val = izdvoj_mesece_iz_niske(val, datum)\n",
    "        else:\n",
    "            new_val = -1\n",
    "            # print(val, new_val)\n",
    "        relevant_data.loc[index, col] = new_val\n"
   ]
  },
  {
   "cell_type": "code",
   "execution_count": 9,
   "metadata": {
    "pycharm": {
     "name": "#%%\n"
    }
   },
   "outputs": [
    {
     "data": {
      "text/plain": "     Broj  godine starosti  stariji od 65  Pol Datum elektrokonverzije  \\\n0       1               78              1    1              2014-01-21   \n1       2               61              0    1              2014-01-29   \n2       3               65              1    1              2014-02-10   \n3       4               64              0    1              2014-02-14   \n4       5               65              1    2              2014-03-06   \n..    ...              ...            ...  ...                     ...   \n142   646               61              0    1              2019-10-29   \n143   647               58              0    1              2019-10-31   \n144   648               72              1    2              2019-11-06   \n145   649               39              0    1              2019-11-27   \n146   650               60              0    1              2019-12-10   \n\n     indikacija: perzistentna  \\\n0                           1   \n1                           2   \n2                           1   \n3                           1   \n4                           1   \n..                        ...   \n142                         2   \n143                         2   \n144                         1   \n145                         2   \n146                         2   \n\n    ukupno trajanje AF (kada je prvi put dijagnostikovana) u mesecima  \\\n0                                                    5                  \n1                                                   24                  \n2                                                    4                  \n3                                                  288                  \n4                                                   48                  \n..                                                 ...                  \n142                                                  2                  \n143                                                 12                  \n144                                                 20                  \n145                                                 48                  \n146                                                 10                  \n\n    trajanje ove epizode AF u mesecima  frekvenca komora na prijemnom EKG-u  \\\n0                                    5                                    0   \n1                                    1                                    7   \n2                                    4                                    0   \n3                                    2                                    7   \n4                                    3                                    9   \n..                                 ...                                  ...   \n142                                  2                                    0   \n143                                  2                                    0   \n144                                 20                                    6   \n145                                  1                                    9   \n146                                 10                                    0   \n\n     Blok grane  ...  Amiodaron  Propafen  Flekainid  Sotalol  Digoksin  ASA  \\\n0             3  ...        1.0       0.0        0.0      0.0       0.0  0.0   \n1             0  ...        0.0       1.0        0.0      0.0       0.0  0.0   \n2             3  ...        1.0       0.0        0.0      0.0       0.0  0.0   \n3             0  ...        1.0       0.0        0.0      0.0       0.0  0.0   \n4             0  ...        1.0       0.0        0.0      0.0       0.0  0.0   \n..          ...  ...        ...       ...        ...      ...       ...  ...   \n142           3  ...        0.0       0.0        0.0      0.0       0.0  0.0   \n143           3  ...        1.0       0.0        0.0      0.0       0.0  0.0   \n144           0  ...        0.0       0.0        0.0      0.0       0.0  0.0   \n145           0  ...        0.0       0.0        1.0      0.0       0.0  0.0   \n146           3  ...        1.0       0.0        0.0      0.0       0.0  0.0   \n\n     OAKT  Plavix  Statin  Održavanje sinusnog ritma nakon godinu dana  \n0     1.0     0.0     0.0                                          1.0  \n1     1.0     0.0     0.0                                          0.0  \n2     1.0     0.0     0.0                                          1.0  \n3     1.0     0.0     0.0                                          0.0  \n4     1.0     0.0     1.0                                          NaN  \n..    ...     ...     ...                                          ...  \n142   1.0     0.0     0.0                                          1.0  \n143   2.0     0.0     1.0                                          1.0  \n144   2.0     0.0     0.0                                          0.0  \n145   2.0     0.0     0.0                                          1.0  \n146   1.0     0.0     1.0                                          1.0  \n\n[130 rows x 72 columns]",
      "text/html": "<div>\n<style scoped>\n    .dataframe tbody tr th:only-of-type {\n        vertical-align: middle;\n    }\n\n    .dataframe tbody tr th {\n        vertical-align: top;\n    }\n\n    .dataframe thead th {\n        text-align: right;\n    }\n</style>\n<table border=\"1\" class=\"dataframe\">\n  <thead>\n    <tr style=\"text-align: right;\">\n      <th></th>\n      <th>Broj</th>\n      <th>godine starosti</th>\n      <th>stariji od 65</th>\n      <th>Pol</th>\n      <th>Datum elektrokonverzije</th>\n      <th>indikacija: perzistentna</th>\n      <th>ukupno trajanje AF (kada je prvi put dijagnostikovana) u mesecima</th>\n      <th>trajanje ove epizode AF u mesecima</th>\n      <th>frekvenca komora na prijemnom EKG-u</th>\n      <th>Blok grane</th>\n      <th>...</th>\n      <th>Amiodaron</th>\n      <th>Propafen</th>\n      <th>Flekainid</th>\n      <th>Sotalol</th>\n      <th>Digoksin</th>\n      <th>ASA</th>\n      <th>OAKT</th>\n      <th>Plavix</th>\n      <th>Statin</th>\n      <th>Održavanje sinusnog ritma nakon godinu dana</th>\n    </tr>\n  </thead>\n  <tbody>\n    <tr>\n      <th>0</th>\n      <td>1</td>\n      <td>78</td>\n      <td>1</td>\n      <td>1</td>\n      <td>2014-01-21</td>\n      <td>1</td>\n      <td>5</td>\n      <td>5</td>\n      <td>0</td>\n      <td>3</td>\n      <td>...</td>\n      <td>1.0</td>\n      <td>0.0</td>\n      <td>0.0</td>\n      <td>0.0</td>\n      <td>0.0</td>\n      <td>0.0</td>\n      <td>1.0</td>\n      <td>0.0</td>\n      <td>0.0</td>\n      <td>1.0</td>\n    </tr>\n    <tr>\n      <th>1</th>\n      <td>2</td>\n      <td>61</td>\n      <td>0</td>\n      <td>1</td>\n      <td>2014-01-29</td>\n      <td>2</td>\n      <td>24</td>\n      <td>1</td>\n      <td>7</td>\n      <td>0</td>\n      <td>...</td>\n      <td>0.0</td>\n      <td>1.0</td>\n      <td>0.0</td>\n      <td>0.0</td>\n      <td>0.0</td>\n      <td>0.0</td>\n      <td>1.0</td>\n      <td>0.0</td>\n      <td>0.0</td>\n      <td>0.0</td>\n    </tr>\n    <tr>\n      <th>2</th>\n      <td>3</td>\n      <td>65</td>\n      <td>1</td>\n      <td>1</td>\n      <td>2014-02-10</td>\n      <td>1</td>\n      <td>4</td>\n      <td>4</td>\n      <td>0</td>\n      <td>3</td>\n      <td>...</td>\n      <td>1.0</td>\n      <td>0.0</td>\n      <td>0.0</td>\n      <td>0.0</td>\n      <td>0.0</td>\n      <td>0.0</td>\n      <td>1.0</td>\n      <td>0.0</td>\n      <td>0.0</td>\n      <td>1.0</td>\n    </tr>\n    <tr>\n      <th>3</th>\n      <td>4</td>\n      <td>64</td>\n      <td>0</td>\n      <td>1</td>\n      <td>2014-02-14</td>\n      <td>1</td>\n      <td>288</td>\n      <td>2</td>\n      <td>7</td>\n      <td>0</td>\n      <td>...</td>\n      <td>1.0</td>\n      <td>0.0</td>\n      <td>0.0</td>\n      <td>0.0</td>\n      <td>0.0</td>\n      <td>0.0</td>\n      <td>1.0</td>\n      <td>0.0</td>\n      <td>0.0</td>\n      <td>0.0</td>\n    </tr>\n    <tr>\n      <th>4</th>\n      <td>5</td>\n      <td>65</td>\n      <td>1</td>\n      <td>2</td>\n      <td>2014-03-06</td>\n      <td>1</td>\n      <td>48</td>\n      <td>3</td>\n      <td>9</td>\n      <td>0</td>\n      <td>...</td>\n      <td>1.0</td>\n      <td>0.0</td>\n      <td>0.0</td>\n      <td>0.0</td>\n      <td>0.0</td>\n      <td>0.0</td>\n      <td>1.0</td>\n      <td>0.0</td>\n      <td>1.0</td>\n      <td>NaN</td>\n    </tr>\n    <tr>\n      <th>...</th>\n      <td>...</td>\n      <td>...</td>\n      <td>...</td>\n      <td>...</td>\n      <td>...</td>\n      <td>...</td>\n      <td>...</td>\n      <td>...</td>\n      <td>...</td>\n      <td>...</td>\n      <td>...</td>\n      <td>...</td>\n      <td>...</td>\n      <td>...</td>\n      <td>...</td>\n      <td>...</td>\n      <td>...</td>\n      <td>...</td>\n      <td>...</td>\n      <td>...</td>\n      <td>...</td>\n    </tr>\n    <tr>\n      <th>142</th>\n      <td>646</td>\n      <td>61</td>\n      <td>0</td>\n      <td>1</td>\n      <td>2019-10-29</td>\n      <td>2</td>\n      <td>2</td>\n      <td>2</td>\n      <td>0</td>\n      <td>3</td>\n      <td>...</td>\n      <td>0.0</td>\n      <td>0.0</td>\n      <td>0.0</td>\n      <td>0.0</td>\n      <td>0.0</td>\n      <td>0.0</td>\n      <td>1.0</td>\n      <td>0.0</td>\n      <td>0.0</td>\n      <td>1.0</td>\n    </tr>\n    <tr>\n      <th>143</th>\n      <td>647</td>\n      <td>58</td>\n      <td>0</td>\n      <td>1</td>\n      <td>2019-10-31</td>\n      <td>2</td>\n      <td>12</td>\n      <td>2</td>\n      <td>0</td>\n      <td>3</td>\n      <td>...</td>\n      <td>1.0</td>\n      <td>0.0</td>\n      <td>0.0</td>\n      <td>0.0</td>\n      <td>0.0</td>\n      <td>0.0</td>\n      <td>2.0</td>\n      <td>0.0</td>\n      <td>1.0</td>\n      <td>1.0</td>\n    </tr>\n    <tr>\n      <th>144</th>\n      <td>648</td>\n      <td>72</td>\n      <td>1</td>\n      <td>2</td>\n      <td>2019-11-06</td>\n      <td>1</td>\n      <td>20</td>\n      <td>20</td>\n      <td>6</td>\n      <td>0</td>\n      <td>...</td>\n      <td>0.0</td>\n      <td>0.0</td>\n      <td>0.0</td>\n      <td>0.0</td>\n      <td>0.0</td>\n      <td>0.0</td>\n      <td>2.0</td>\n      <td>0.0</td>\n      <td>0.0</td>\n      <td>0.0</td>\n    </tr>\n    <tr>\n      <th>145</th>\n      <td>649</td>\n      <td>39</td>\n      <td>0</td>\n      <td>1</td>\n      <td>2019-11-27</td>\n      <td>2</td>\n      <td>48</td>\n      <td>1</td>\n      <td>9</td>\n      <td>0</td>\n      <td>...</td>\n      <td>0.0</td>\n      <td>0.0</td>\n      <td>1.0</td>\n      <td>0.0</td>\n      <td>0.0</td>\n      <td>0.0</td>\n      <td>2.0</td>\n      <td>0.0</td>\n      <td>0.0</td>\n      <td>1.0</td>\n    </tr>\n    <tr>\n      <th>146</th>\n      <td>650</td>\n      <td>60</td>\n      <td>0</td>\n      <td>1</td>\n      <td>2019-12-10</td>\n      <td>2</td>\n      <td>10</td>\n      <td>10</td>\n      <td>0</td>\n      <td>3</td>\n      <td>...</td>\n      <td>1.0</td>\n      <td>0.0</td>\n      <td>0.0</td>\n      <td>0.0</td>\n      <td>0.0</td>\n      <td>0.0</td>\n      <td>1.0</td>\n      <td>0.0</td>\n      <td>1.0</td>\n      <td>1.0</td>\n    </tr>\n  </tbody>\n</table>\n<p>130 rows × 72 columns</p>\n</div>"
     },
     "execution_count": 9,
     "metadata": {},
     "output_type": "execute_result"
    }
   ],
   "source": [
    "relevant_data"
   ]
  },
  {
   "cell_type": "code",
   "execution_count": 10,
   "outputs": [
    {
     "data": {
      "text/plain": "array([dtype('int64'), dtype('int64'), dtype('int64'), dtype('int64'),\n       dtype('<M8[ns]'), dtype('int64'), dtype('O'), dtype('O'),\n       dtype('int64'), dtype('int64'), dtype('int64'), dtype('int64'),\n       dtype('float64'), dtype('int64'), dtype('int64'), dtype('int64'),\n       dtype('int64'), dtype('int64'), dtype('int64'), dtype('int64'),\n       dtype('int64'), dtype('int64'), dtype('int64'), dtype('int64'),\n       dtype('float64'), dtype('int64'), dtype('int64'), dtype('int64'),\n       dtype('int64'), dtype('int64'), dtype('int64'), dtype('int64'),\n       dtype('int64'), dtype('int64'), dtype('int64'), dtype('int64'),\n       dtype('int64'), dtype('int64'), dtype('int64'), dtype('int64'),\n       dtype('int64'), dtype('int64'), dtype('int64'), dtype('int64'),\n       dtype('int64'), dtype('float64'), dtype('int64'), dtype('int64'),\n       dtype('float64'), dtype('O'), dtype('int64'), dtype('int64'),\n       dtype('float64'), dtype('float64'), dtype('float64'),\n       dtype('float64'), dtype('float64'), dtype('float64'),\n       dtype('float64'), dtype('float64'), dtype('float64'),\n       dtype('float64'), dtype('float64'), dtype('float64'),\n       dtype('float64'), dtype('float64'), dtype('float64'),\n       dtype('float64'), dtype('float64'), dtype('float64'),\n       dtype('float64'), dtype('float64')], dtype=object)"
     },
     "execution_count": 10,
     "metadata": {},
     "output_type": "execute_result"
    }
   ],
   "source": [
    "data.dtypes.to_numpy()"
   ],
   "metadata": {
    "collapsed": false,
    "pycharm": {
     "name": "#%%\n"
    }
   }
  }
 ],
 "metadata": {
  "kernelspec": {
   "display_name": "Python 3",
   "language": "python",
   "name": "python3"
  },
  "language_info": {
   "codemirror_mode": {
    "name": "ipython",
    "version": 3
   },
   "file_extension": ".py",
   "mimetype": "text/x-python",
   "name": "python",
   "nbconvert_exporter": "python",
   "pygments_lexer": "ipython3",
   "version": "3.9.5"
  }
 },
 "nbformat": 4,
 "nbformat_minor": 1
}