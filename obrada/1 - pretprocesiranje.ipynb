{
 "cells": [
  {
   "cell_type": "markdown",
   "metadata": {
    "collapsed": true,
    "pycharm": {
     "name": "#%% md\n"
    }
   },
   "source": [
    "# Predikcija održavanja sinusnog ritma posle godinu dana\n",
    "Zadatak:\n",
    "- Pronaći atribute značajne za predikciju uspešnosti održavanja sinusnog srčanog ritma godinu dana nakon obavljene elektrokonverzije u odnosu na kliničku sliku pacijenta, druge indikacije i dodeljenu terapiju\n",
    "- Konstruisati bajesovsku mrežu koja uključuje relevantne atribute i vrši predikciju uspešnosti održavanja sinusnog ritma godinu dana nakon elektrokonverzije\n",
    "- Testirati druge metode istraživanja podataka (neke od: SVM, neuronske mreže, stabla odlučivanja, logistička regresija) i uporediti sa uspešnosti predikcije korišćenjem bajesovske mreže"
   ]
  },
  {
   "cell_type": "code",
   "execution_count": 1,
   "metadata": {
    "pycharm": {
     "name": "#%%\n"
    }
   },
   "outputs": [],
   "source": [
    "import re\n",
    "\n",
    "import numpy as np\n",
    "import pandas as pd"
   ]
  },
  {
   "cell_type": "code",
   "execution_count": 2,
   "metadata": {
    "pycharm": {
     "name": "#%%\n"
    }
   },
   "outputs": [
    {
     "name": "stderr",
     "output_type": "stream",
     "text": [
      "/Users/sterlu/opt/miniconda3/envs/ml/lib/python3.9/site-packages/openpyxl/worksheet/_reader.py:312: UserWarning: Unknown extension is not supported and will be removed\n",
      "  warn(msg)\n"
     ]
    }
   ],
   "source": [
    "# kolonu H zadrzavamo jer je koristimo pri konverziji kolone J\n",
    "data = pd.read_excel('././elektrokonverzija.xlsx', usecols='A,C:E,H,I:AH,AJ:BB,BE:BI,CE:CT,CW', nrows=147)"
   ]
  },
  {
   "cell_type": "markdown",
   "source": [
    "Menjamo nazive kolona - izbacujemo dodatne podatke koji objašnjavaju vrednosti."
   ],
   "metadata": {
    "collapsed": false
   }
  },
  {
   "cell_type": "code",
   "execution_count": 3,
   "metadata": {
    "pycharm": {
     "name": "#%%\n"
    }
   },
   "outputs": [
    {
     "data": {
      "text/plain": "Index(['Broj', 'godine starosti', 'stariji od 65', 'Pol',\n       'Datum elektrokonverzije', 'indikacija: perzistentna',\n       'ukupno trajanje AF (kada je prvi put dijagnostikovana) u mesecima',\n       'trajanje ove epizode AF u mesecima',\n       'frekvenca komora na prijemnom EKG-u', 'Blok grane', 'dimenzija LPK',\n       'EDD LK', 'ESD LK', 'EF LK', 'MR', 'TR', 'HTA', 'DM', 'HLP', 'HOBP',\n       'pušenje', 'Hereditet za KVB', 'ishemijska bolest srca', 'HF',\n       'NYHA klasa (ukoliko ima HF)', 'Prethodni TIA/CVI', 'HBI', 'CHADS-Vasc',\n       'poremećaj f-je štitaste žlezde', 'dosadašnje elektrokonverzije',\n       'SCD (Structural heart disease)', 'Beta blokatori', 'ACE inhibitori',\n       'ARB', 'Furosemid (ne - 0)', 'Drugi diuretik', 'Spironolakton',\n       'Ca antagonisti', 'Amiodaron', 'Propafen', 'Flekainid', 'Sotalol',\n       'Digoksin', 'ASA', 'OAKT', 'vrednost INR 2-3', 'Plavix', 'Statin',\n       'Implantiran CIED',\n       'Vreme u mesecima od ugradnje aparata do elektrokonverzije',\n       'sinhroni, bifazni DC šok', 'Elektrokonverzija',\n       'jačina struje sa kojom je učinjena uspešna konverzija',\n       'uspešnom šoku je prethodilo neuspešnih šokova:',\n       'NEPOSREDNE KOMPLIKACIJE U VEZI SA ELEKTROKONVERZIJOM',\n       'Beta blokatori', 'ACE inhibitori', 'ARB', 'Furosemid (ne - 0)',\n       'Drugi diuretik', 'Spironolakton', 'Ca antagonisti', 'Amiodaron',\n       'Propafen', 'Flekainid', 'Sotalol', 'Digoksin', 'ASA', 'OAKT', 'Plavix',\n       'Statin', 'Održavanje sinusnog ritma nakon godinu dana'],\n      dtype='object')"
     },
     "execution_count": 3,
     "metadata": {},
     "output_type": "execute_result"
    }
   ],
   "source": [
    "def preimenuj(kol):\n",
    "    index = min([a for a in [99999, kol.find('  '), kol.find('0 - '), kol.find('1 - ')] if a > -1])\n",
    "    if index < 99999:\n",
    "        return kol[0:index].strip()\n",
    "    return kol\n",
    "data.columns = data.columns.map(preimenuj)\n",
    "data.columns"
   ]
  },
  {
   "cell_type": "code",
   "execution_count": 4,
   "metadata": {
    "pycharm": {
     "name": "#%%\n"
    }
   },
   "outputs": [
    {
     "name": "stdout",
     "output_type": "stream",
     "text": [
      "Ukupno pacijenata: 147\n",
      "Pacijenata sa uspesnom el. konv. (relevantni podaci): (130, 72)\n",
      "Pacijenata sa odrzanim ritmom posle god. (pozitivan ishod): (50, 72)\n"
     ]
    }
   ],
   "source": [
    "print('Ukupno pacijenata:', data.shape[0])\n",
    "\n",
    "relevant_data = data[data['Elektrokonverzija'] < 3]\n",
    "print('Pacijenata sa uspesnom el. konv. (relevantni podaci):', relevant_data.shape)\n",
    "print('Pacijenata sa odrzanim ritmom posle god. (pozitivan ishod):', relevant_data[relevant_data['Održavanje sinusnog ritma nakon godinu dana'] == 1].shape)\n",
    "\n",
    "# relevant_data_2 = relevant_data[pd.isna(relevant_data['Broj dana do javljanja AF'])]\n",
    "# print('Pacijenata sa uspesnom el. konv. i posle mesec dana', relevant_data_2.shape[0])"
   ]
  },
  {
   "cell_type": "code",
   "execution_count": 5,
   "metadata": {
    "pycharm": {
     "name": "#%%\n"
    }
   },
   "outputs": [],
   "source": [
    "# pd.set_option(\"display.max_rows\", None, \"display.max_columns\", None)\n",
    "# relevant_data"
   ]
  },
  {
   "cell_type": "markdown",
   "source": [
    "Formatiramo podatke mešovitih formata. Vidimo da sve kolone koje imaju mešovite podatke jesu\n",
    " one koje predstavljaju trajanje u mesecima. Konvertujemo podatke kao \"Od 2010\" u broj meseci\n",
    " poređenjem sa datumom elektrokonverzije."
   ],
   "metadata": {
    "collapsed": false
   }
  },
  {
   "cell_type": "code",
   "execution_count": 6,
   "metadata": {
    "pycharm": {
     "name": "#%%\n"
    }
   },
   "outputs": [
    {
     "data": {
      "text/plain": "Index(['ukupno trajanje AF (kada je prvi put dijagnostikovana) u mesecima',\n       'trajanje ove epizode AF u mesecima',\n       'Vreme u mesecima od ugradnje aparata do elektrokonverzije'],\n      dtype='object')"
     },
     "execution_count": 6,
     "metadata": {},
     "output_type": "execute_result"
    }
   ],
   "source": [
    "kolone_sa_mesanim_podacima = relevant_data.columns[np.where(relevant_data.dtypes == 'O')]\n",
    "kolone_sa_mesanim_podacima\n",
    "# Sve 3 kolone podrazumevaju broj meseci\n"
   ]
  },
  {
   "cell_type": "code",
   "execution_count": 7,
   "metadata": {
    "pycharm": {
     "name": "#%%\n"
    }
   },
   "outputs": [],
   "source": [
    "from datetime import datetime\n",
    "import re\n",
    "\n",
    "def izdvoj_mesece_iz_niske(x, datum):\n",
    "    od_search = re.search('[oO]d[a-z ]*(\\d{4})', x.lower()) # na jednom mestu piše \"0d2010\" sa nulom\n",
    "    if od_search:\n",
    "        godina = od_search.group(1)\n",
    "        return (datum - datetime(int(godina), 1, 1)).days // 30\n",
    "\n",
    "    god_search = re.search('(\\d+)\\s*god', x.lower())\n",
    "    if god_search: return int(god_search.group(1)) * 12\n",
    "\n",
    "    mesec_search = re.search('(\\d+)\\s*mesec', x.lower())\n",
    "    if mesec_search: return int(mesec_search.group(1))\n",
    "\n",
    "    dan_search = re.search('(\\d+)\\s*dan', x.lower())\n",
    "    if dan_search: return int(dan_search.group(1)) // 30\n",
    "\n",
    "    return -1\n",
    "\n",
    "# print(izdvoj_mesece_iz_niske('od2002', datetime(2014, 1, 21)))\n",
    "# print(izdvoj_mesece_iz_niske('od 2004', datetime(2014, 1, 21)))\n",
    "# print(izdvoj_mesece_iz_niske('5god', datetime(2014, 1, 21)))\n",
    "# print(izdvoj_mesece_iz_niske('1 godina', datetime(2014, 1, 21)))"
   ]
  },
  {
   "cell_type": "code",
   "execution_count": 8,
   "metadata": {
    "pycharm": {
     "name": "#%%\n"
    }
   },
   "outputs": [],
   "source": [
    "pd.options.mode.chained_assignment = None # dobijamo upozorenja zbog relevant_data = data[...]\n",
    "for index, row in relevant_data.iterrows():\n",
    "    for col in kolone_sa_mesanim_podacima:\n",
    "        val = relevant_data.loc[index, col]\n",
    "        new_val = val\n",
    "        datum = row['Datum elektrokonverzije']\n",
    "        if isinstance(val, int):\n",
    "            continue\n",
    "        elif isinstance(val, datetime):\n",
    "            new_val = (datum - val).days // 30\n",
    "        elif isinstance(val, str):\n",
    "            new_val = izdvoj_mesece_iz_niske(val, datum)\n",
    "        else:\n",
    "            new_val = -1\n",
    "            # print(val, new_val)\n",
    "        relevant_data.loc[index, col] = new_val"
   ]
  },
  {
   "cell_type": "markdown",
   "source": [
    "Na kraju izbacujemo datum jer nam više ne treba, a nije relevantan za klasifikaciju."
   ],
   "metadata": {
    "collapsed": false
   }
  },
  {
   "cell_type": "code",
   "execution_count": 9,
   "outputs": [],
   "source": [
    "relevant_data.drop(columns=['Datum elektrokonverzije'], inplace=True)"
   ],
   "metadata": {
    "collapsed": false,
    "pycharm": {
     "name": "#%%\n"
    }
   }
  },
  {
   "cell_type": "markdown",
   "source": [
    "Uklanjamo atribute kojima su sve vrednosti 0 jer ne utiču na klasifikaciju."
   ],
   "metadata": {
    "collapsed": false
   }
  },
  {
   "cell_type": "code",
   "execution_count": 10,
   "outputs": [
    {
     "data": {
      "text/plain": "['HBI']"
     },
     "execution_count": 10,
     "metadata": {},
     "output_type": "execute_result"
    }
   ],
   "source": [
    "columns_to_remove=[]\n",
    "for column in data.columns:\n",
    "    if(list(data[column]).count(0) == 130):\n",
    "        columns_to_remove.append(column)\n",
    "columns_to_remove"
   ],
   "metadata": {
    "collapsed": false,
    "pycharm": {
     "name": "#%%\n"
    }
   }
  },
  {
   "cell_type": "code",
   "execution_count": 11,
   "outputs": [
    {
     "data": {
      "text/plain": "     Broj  godine starosti  stariji od 65  Pol Datum elektrokonverzije  \\\n0       1               78              1    1              2014-01-21   \n1       2               61              0    1              2014-01-29   \n2       3               65              1    1              2014-02-10   \n3       4               64              0    1              2014-02-14   \n4       5               65              1    2              2014-03-06   \n..    ...              ...            ...  ...                     ...   \n142   646               61              0    1              2019-10-29   \n143   647               58              0    1              2019-10-31   \n144   648               72              1    2              2019-11-06   \n145   649               39              0    1              2019-11-27   \n146   650               60              0    1              2019-12-10   \n\n     indikacija: perzistentna  \\\n0                           1   \n1                           2   \n2                           1   \n3                           1   \n4                           1   \n..                        ...   \n142                         2   \n143                         2   \n144                         1   \n145                         2   \n146                         2   \n\n    ukupno trajanje AF (kada je prvi put dijagnostikovana) u mesecima  \\\n0                                                    5                  \n1                                                   24                  \n2                                                    4                  \n3                                                24god                  \n4                                                 4god                  \n..                                                 ...                  \n142                                                  2                  \n143                                                 12                  \n144                                                 20                  \n145                                               4god                  \n146                                                 10                  \n\n    trajanje ove epizode AF u mesecima  frekvenca komora na prijemnom EKG-u  \\\n0                                    5                                    0   \n1                                    1                                    7   \n2                                    4                                    0   \n3                                    2                                    7   \n4                                    3                                    9   \n..                                 ...                                  ...   \n142                                  2                                    0   \n143                                  2                                    0   \n144                                 20                                    6   \n145                                  1                                    9   \n146                                 10                                    0   \n\n     Blok grane  ...  Amiodaron  Propafen  Flekainid  Sotalol  Digoksin  ASA  \\\n0             3  ...        1.0       0.0        0.0      0.0       0.0  0.0   \n1             0  ...        0.0       1.0        0.0      0.0       0.0  0.0   \n2             3  ...        1.0       0.0        0.0      0.0       0.0  0.0   \n3             0  ...        1.0       0.0        0.0      0.0       0.0  0.0   \n4             0  ...        1.0       0.0        0.0      0.0       0.0  0.0   \n..          ...  ...        ...       ...        ...      ...       ...  ...   \n142           3  ...        0.0       0.0        0.0      0.0       0.0  0.0   \n143           3  ...        1.0       0.0        0.0      0.0       0.0  0.0   \n144           0  ...        0.0       0.0        0.0      0.0       0.0  0.0   \n145           0  ...        0.0       0.0        1.0      0.0       0.0  0.0   \n146           3  ...        1.0       0.0        0.0      0.0       0.0  0.0   \n\n     OAKT  Plavix  Statin  Održavanje sinusnog ritma nakon godinu dana  \n0     1.0     0.0     0.0                                          1.0  \n1     1.0     0.0     0.0                                          0.0  \n2     1.0     0.0     0.0                                          1.0  \n3     1.0     0.0     0.0                                          0.0  \n4     1.0     0.0     1.0                                          NaN  \n..    ...     ...     ...                                          ...  \n142   1.0     0.0     0.0                                          1.0  \n143   2.0     0.0     1.0                                          1.0  \n144   2.0     0.0     0.0                                          0.0  \n145   2.0     0.0     0.0                                          1.0  \n146   1.0     0.0     1.0                                          1.0  \n\n[147 rows x 71 columns]",
      "text/html": "<div>\n<style scoped>\n    .dataframe tbody tr th:only-of-type {\n        vertical-align: middle;\n    }\n\n    .dataframe tbody tr th {\n        vertical-align: top;\n    }\n\n    .dataframe thead th {\n        text-align: right;\n    }\n</style>\n<table border=\"1\" class=\"dataframe\">\n  <thead>\n    <tr style=\"text-align: right;\">\n      <th></th>\n      <th>Broj</th>\n      <th>godine starosti</th>\n      <th>stariji od 65</th>\n      <th>Pol</th>\n      <th>Datum elektrokonverzije</th>\n      <th>indikacija: perzistentna</th>\n      <th>ukupno trajanje AF (kada je prvi put dijagnostikovana) u mesecima</th>\n      <th>trajanje ove epizode AF u mesecima</th>\n      <th>frekvenca komora na prijemnom EKG-u</th>\n      <th>Blok grane</th>\n      <th>...</th>\n      <th>Amiodaron</th>\n      <th>Propafen</th>\n      <th>Flekainid</th>\n      <th>Sotalol</th>\n      <th>Digoksin</th>\n      <th>ASA</th>\n      <th>OAKT</th>\n      <th>Plavix</th>\n      <th>Statin</th>\n      <th>Održavanje sinusnog ritma nakon godinu dana</th>\n    </tr>\n  </thead>\n  <tbody>\n    <tr>\n      <th>0</th>\n      <td>1</td>\n      <td>78</td>\n      <td>1</td>\n      <td>1</td>\n      <td>2014-01-21</td>\n      <td>1</td>\n      <td>5</td>\n      <td>5</td>\n      <td>0</td>\n      <td>3</td>\n      <td>...</td>\n      <td>1.0</td>\n      <td>0.0</td>\n      <td>0.0</td>\n      <td>0.0</td>\n      <td>0.0</td>\n      <td>0.0</td>\n      <td>1.0</td>\n      <td>0.0</td>\n      <td>0.0</td>\n      <td>1.0</td>\n    </tr>\n    <tr>\n      <th>1</th>\n      <td>2</td>\n      <td>61</td>\n      <td>0</td>\n      <td>1</td>\n      <td>2014-01-29</td>\n      <td>2</td>\n      <td>24</td>\n      <td>1</td>\n      <td>7</td>\n      <td>0</td>\n      <td>...</td>\n      <td>0.0</td>\n      <td>1.0</td>\n      <td>0.0</td>\n      <td>0.0</td>\n      <td>0.0</td>\n      <td>0.0</td>\n      <td>1.0</td>\n      <td>0.0</td>\n      <td>0.0</td>\n      <td>0.0</td>\n    </tr>\n    <tr>\n      <th>2</th>\n      <td>3</td>\n      <td>65</td>\n      <td>1</td>\n      <td>1</td>\n      <td>2014-02-10</td>\n      <td>1</td>\n      <td>4</td>\n      <td>4</td>\n      <td>0</td>\n      <td>3</td>\n      <td>...</td>\n      <td>1.0</td>\n      <td>0.0</td>\n      <td>0.0</td>\n      <td>0.0</td>\n      <td>0.0</td>\n      <td>0.0</td>\n      <td>1.0</td>\n      <td>0.0</td>\n      <td>0.0</td>\n      <td>1.0</td>\n    </tr>\n    <tr>\n      <th>3</th>\n      <td>4</td>\n      <td>64</td>\n      <td>0</td>\n      <td>1</td>\n      <td>2014-02-14</td>\n      <td>1</td>\n      <td>24god</td>\n      <td>2</td>\n      <td>7</td>\n      <td>0</td>\n      <td>...</td>\n      <td>1.0</td>\n      <td>0.0</td>\n      <td>0.0</td>\n      <td>0.0</td>\n      <td>0.0</td>\n      <td>0.0</td>\n      <td>1.0</td>\n      <td>0.0</td>\n      <td>0.0</td>\n      <td>0.0</td>\n    </tr>\n    <tr>\n      <th>4</th>\n      <td>5</td>\n      <td>65</td>\n      <td>1</td>\n      <td>2</td>\n      <td>2014-03-06</td>\n      <td>1</td>\n      <td>4god</td>\n      <td>3</td>\n      <td>9</td>\n      <td>0</td>\n      <td>...</td>\n      <td>1.0</td>\n      <td>0.0</td>\n      <td>0.0</td>\n      <td>0.0</td>\n      <td>0.0</td>\n      <td>0.0</td>\n      <td>1.0</td>\n      <td>0.0</td>\n      <td>1.0</td>\n      <td>NaN</td>\n    </tr>\n    <tr>\n      <th>...</th>\n      <td>...</td>\n      <td>...</td>\n      <td>...</td>\n      <td>...</td>\n      <td>...</td>\n      <td>...</td>\n      <td>...</td>\n      <td>...</td>\n      <td>...</td>\n      <td>...</td>\n      <td>...</td>\n      <td>...</td>\n      <td>...</td>\n      <td>...</td>\n      <td>...</td>\n      <td>...</td>\n      <td>...</td>\n      <td>...</td>\n      <td>...</td>\n      <td>...</td>\n      <td>...</td>\n    </tr>\n    <tr>\n      <th>142</th>\n      <td>646</td>\n      <td>61</td>\n      <td>0</td>\n      <td>1</td>\n      <td>2019-10-29</td>\n      <td>2</td>\n      <td>2</td>\n      <td>2</td>\n      <td>0</td>\n      <td>3</td>\n      <td>...</td>\n      <td>0.0</td>\n      <td>0.0</td>\n      <td>0.0</td>\n      <td>0.0</td>\n      <td>0.0</td>\n      <td>0.0</td>\n      <td>1.0</td>\n      <td>0.0</td>\n      <td>0.0</td>\n      <td>1.0</td>\n    </tr>\n    <tr>\n      <th>143</th>\n      <td>647</td>\n      <td>58</td>\n      <td>0</td>\n      <td>1</td>\n      <td>2019-10-31</td>\n      <td>2</td>\n      <td>12</td>\n      <td>2</td>\n      <td>0</td>\n      <td>3</td>\n      <td>...</td>\n      <td>1.0</td>\n      <td>0.0</td>\n      <td>0.0</td>\n      <td>0.0</td>\n      <td>0.0</td>\n      <td>0.0</td>\n      <td>2.0</td>\n      <td>0.0</td>\n      <td>1.0</td>\n      <td>1.0</td>\n    </tr>\n    <tr>\n      <th>144</th>\n      <td>648</td>\n      <td>72</td>\n      <td>1</td>\n      <td>2</td>\n      <td>2019-11-06</td>\n      <td>1</td>\n      <td>20</td>\n      <td>20</td>\n      <td>6</td>\n      <td>0</td>\n      <td>...</td>\n      <td>0.0</td>\n      <td>0.0</td>\n      <td>0.0</td>\n      <td>0.0</td>\n      <td>0.0</td>\n      <td>0.0</td>\n      <td>2.0</td>\n      <td>0.0</td>\n      <td>0.0</td>\n      <td>0.0</td>\n    </tr>\n    <tr>\n      <th>145</th>\n      <td>649</td>\n      <td>39</td>\n      <td>0</td>\n      <td>1</td>\n      <td>2019-11-27</td>\n      <td>2</td>\n      <td>4god</td>\n      <td>1</td>\n      <td>9</td>\n      <td>0</td>\n      <td>...</td>\n      <td>0.0</td>\n      <td>0.0</td>\n      <td>1.0</td>\n      <td>0.0</td>\n      <td>0.0</td>\n      <td>0.0</td>\n      <td>2.0</td>\n      <td>0.0</td>\n      <td>0.0</td>\n      <td>1.0</td>\n    </tr>\n    <tr>\n      <th>146</th>\n      <td>650</td>\n      <td>60</td>\n      <td>0</td>\n      <td>1</td>\n      <td>2019-12-10</td>\n      <td>2</td>\n      <td>10</td>\n      <td>10</td>\n      <td>0</td>\n      <td>3</td>\n      <td>...</td>\n      <td>1.0</td>\n      <td>0.0</td>\n      <td>0.0</td>\n      <td>0.0</td>\n      <td>0.0</td>\n      <td>0.0</td>\n      <td>1.0</td>\n      <td>0.0</td>\n      <td>1.0</td>\n      <td>1.0</td>\n    </tr>\n  </tbody>\n</table>\n<p>147 rows × 71 columns</p>\n</div>"
     },
     "execution_count": 11,
     "metadata": {},
     "output_type": "execute_result"
    }
   ],
   "source": [
    "data = data.drop(columns_to_remove, axis=1)\n",
    "data"
   ],
   "metadata": {
    "collapsed": false,
    "pycharm": {
     "name": "#%%\n"
    }
   }
  },
  {
   "cell_type": "markdown",
   "source": [
    "Proveravamo kolone sa NaN. Ručnom analizom procenjujemo da možemo da ih izbacimo ili popunimo nulama."
   ],
   "metadata": {
    "collapsed": false,
    "pycharm": {
     "name": "#%% md\n"
    }
   }
  },
  {
   "cell_type": "code",
   "execution_count": 12,
   "metadata": {
    "pycharm": {
     "name": "#%%\n"
    }
   },
   "outputs": [
    {
     "name": "stdout",
     "output_type": "stream",
     "text": [
      "ESD LK\n",
      "NYHA klasa (ukoliko ima HF)\n",
      "vrednost INR 2-3\n",
      "Implantiran CIED\n",
      "NEPOSREDNE KOMPLIKACIJE U VEZI SA ELEKTROKONVERZIJOM\n",
      "Održavanje sinusnog ritma nakon godinu dana\n"
     ]
    }
   ],
   "source": [
    "# Kolone sa NaN\n",
    "print('\\n'.join(relevant_data.columns[np.where(relevant_data.isna().any())]))\n",
    "\n",
    "# ESD LK                                                        TODO (1 red)\n",
    "# NYHA klasa (ukoliko ima HF)                                   Popuniti nulama jer nema HF\n",
    "# vrednost INR 2-3                                              Izbacujemo zbog korelacije sa podatkom OAKT=2 (19 redova)\n",
    "# Implantiran CIED                                              Popuniti nulama (2 reda)\n",
    "# NEPOSREDNE KOMPLIKACIJE U VEZI SA ELEKTROKONVERZIJOM          Popuniti nulama (1 red)\n",
    "# Održavanje sinusnog ritma nakon godinu dana                   Popuniti nulama\n",
    "\n",
    "relevant_data.drop(columns=['vrednost INR 2-3'], inplace=True)\n",
    "relevant_data.fillna(0, inplace=True)\n",
    "# relevant_data"
   ]
  },
  {
   "cell_type": "code",
   "execution_count": 13,
   "outputs": [],
   "source": [
    "relevant_data.to_csv('elektrokonverzija_obradjeno.csv')"
   ],
   "metadata": {
    "collapsed": false,
    "pycharm": {
     "name": "#%%\n"
    }
   }
  }
 ],
 "metadata": {
  "kernelspec": {
   "display_name": "Python 3",
   "language": "python",
   "name": "python3"
  },
  "language_info": {
   "codemirror_mode": {
    "name": "ipython",
    "version": 3
   },
   "file_extension": ".py",
   "mimetype": "text/x-python",
   "name": "python",
   "nbconvert_exporter": "python",
   "pygments_lexer": "ipython3",
   "version": "3.9.5"
  }
 },
 "nbformat": 4,
 "nbformat_minor": 1
}