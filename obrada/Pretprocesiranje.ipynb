{
 "cells": [
  {
   "cell_type": "markdown",
   "metadata": {
    "collapsed": true,
    "pycharm": {
     "name": "#%% md\n"
    }
   },
   "source": [
    "# Predikcija održavanja sinusnog ritma posle godinu dana\n",
    "Zadatak:\n",
    "- Pronaći atribute značajne za predikciju uspešnosti održavanja sinusnog srčanog ritma godinu dana nakon obavljene elektrokonverzije u odnosu na kliničku sliku pacijenta, druge indikacije i dodeljenu terapiju\n",
    "- Konstruisati bajesovsku mrežu koja uključuje relevantne atribute i vrši predikciju uspešnosti održavanja sinusnog ritma godinu dana nakon elektrokonverzije\n",
    "- Testirati druge metode istraživanja podataka (neke od: SVM, neuronske mreže, stabla odlučivanja, logistička regresija) i uporediti sa uspešnosti predikcije korišćenjem bajesovske mreže"
   ]
  },
  {
   "cell_type": "code",
   "execution_count": 74,
   "metadata": {
    "pycharm": {
     "name": "#%%\n"
    }
   },
   "outputs": [],
   "source": [
    "import re\n",
    "\n",
    "import numpy as np\n",
    "import pandas as pd"
   ]
  },
  {
   "cell_type": "code",
   "execution_count": 75,
   "metadata": {
    "pycharm": {
     "name": "#%%\n"
    }
   },
   "outputs": [
    {
     "name": "stderr",
     "output_type": "stream",
     "text": [
      "/Users/sterlu/opt/miniconda3/envs/ml/lib/python3.9/site-packages/openpyxl/worksheet/_reader.py:312: UserWarning: Unknown extension is not supported and will be removed\n",
      "  warn(msg)\n"
     ]
    }
   ],
   "source": [
    "# kolonu H zadrzavamo jer je koristimo pri konverziji kolone J\n",
    "data = pd.read_excel('././elektrokonverzija.xlsx', usecols='A,C:E,H,I:AH,AJ:BB,BE:BI,CE:CT,CW', nrows=147)"
   ]
  },
  {
   "cell_type": "markdown",
   "source": [
    "Menjamo nazive kolona - izbacujemo dodatne podatke koji objašnjavaju vrednosti."
   ],
   "metadata": {
    "collapsed": false
   }
  },
  {
   "cell_type": "code",
   "execution_count": 76,
   "metadata": {
    "pycharm": {
     "name": "#%%\n"
    }
   },
   "outputs": [
    {
     "name": "stdout",
     "output_type": "stream",
     "text": [
      "Broj False\n",
      "godine starosti False\n",
      "stariji od 65 False\n",
      "Pol False\n",
      "Datum elektrokonverzije False\n",
      "indikacija: perzistentna False\n",
      "ukupno trajanje AF (kada je prvi put dijagnostikovana) u mesecima False\n",
      "trajanje ove epizode AF u mesecima False\n",
      "frekvenca komora na prijemnom EKG-u False\n",
      "Blok grane False\n",
      "dimenzija LPK False\n",
      "EDD LK False\n",
      "ESD LK False\n",
      "EF LK False\n",
      "MR False\n",
      "TR False\n",
      "HTA False\n",
      "DM False\n",
      "HLP False\n",
      "HOBP False\n",
      "pušenje False\n",
      "Hereditet za KVB False\n",
      "ishemijska bolest srca False\n",
      "HF False\n",
      "NYHA klasa (ukoliko ima HF) False\n",
      "Prethodni TIA/CVI False\n",
      "HBI False\n",
      "CHADS-Vasc False\n",
      "poremećaj f-je štitaste žlezde False\n",
      "dosadašnje elektrokonverzije False\n",
      "SCD (Structural heart disease) False\n",
      "Beta blokatori False\n",
      "ACE inhibitori False\n",
      "ARB False\n",
      "Furosemid (ne - 0) False\n",
      "Drugi diuretik False\n",
      "Spironolakton False\n",
      "Ca antagonisti False\n",
      "Amiodaron False\n",
      "Propafen False\n",
      "Flekainid False\n",
      "Sotalol False\n",
      "Digoksin False\n",
      "ASA False\n",
      "OAKT False\n",
      "vrednost INR 2-3 False\n",
      "Plavix False\n",
      "Statin False\n",
      "Implantiran CIED False\n",
      "Vreme u mesecima od ugradnje aparata do elektrokonverzije False\n",
      "sinhroni, bifazni DC šok False\n",
      "Elektrokonverzija False\n",
      "jačina struje sa kojom je učinjena uspešna konverzija False\n",
      "uspešnom šoku je prethodilo neuspešnih šokova: False\n",
      "NEPOSREDNE KOMPLIKACIJE U VEZI SA ELEKTROKONVERZIJOM False\n",
      "Beta blokatori True\n",
      "ACE inhibitori True\n",
      "ARB True\n",
      "Furosemid (ne - 0) True\n",
      "Drugi diuretik True\n",
      "Spironolakton True\n",
      "Ca antagonisti True\n",
      "Amiodaron True\n",
      "Propafen True\n",
      "Flekainid True\n",
      "Sotalol True\n",
      "Digoksin True\n",
      "ASA True\n",
      "OAKT True\n",
      "Plavix True\n",
      "Statin True\n",
      "Održavanje sinusnog ritma nakon godinu dana False\n"
     ]
    },
    {
     "data": {
      "text/plain": "Index(['Broj', 'godine starosti', 'stariji od 65', 'Pol',\n       'Datum elektrokonverzije', 'indikacija: perzistentna',\n       'ukupno trajanje AF (kada je prvi put dijagnostikovana) u mesecima',\n       'trajanje ove epizode AF u mesecima',\n       'frekvenca komora na prijemnom EKG-u', 'Blok grane', 'dimenzija LPK',\n       'EDD LK', 'ESD LK', 'EF LK', 'MR', 'TR', 'HTA', 'DM', 'HLP', 'HOBP',\n       'pušenje', 'Hereditet za KVB', 'ishemijska bolest srca', 'HF',\n       'NYHA klasa (ukoliko ima HF)', 'Prethodni TIA/CVI', 'HBI', 'CHADS-Vasc',\n       'poremećaj f-je štitaste žlezde', 'dosadašnje elektrokonverzije',\n       'SCD (Structural heart disease)', 'Beta blokatori', 'ACE inhibitori',\n       'ARB', 'Furosemid (ne - 0)', 'Drugi diuretik', 'Spironolakton',\n       'Ca antagonisti', 'Amiodaron', 'Propafen', 'Flekainid', 'Sotalol',\n       'Digoksin', 'ASA', 'OAKT', 'vrednost INR 2-3', 'Plavix', 'Statin',\n       'Implantiran CIED',\n       'Vreme u mesecima od ugradnje aparata do elektrokonverzije',\n       'sinhroni, bifazni DC šok', 'Elektrokonverzija',\n       'jačina struje sa kojom je učinjena uspešna konverzija',\n       'uspešnom šoku je prethodilo neuspešnih šokova:',\n       'NEPOSREDNE KOMPLIKACIJE U VEZI SA ELEKTROKONVERZIJOM',\n       'Beta blokatori.1', 'ACE inhibitori.1', 'ARB.1', 'Furosemid (ne - 0).1',\n       'Drugi diuretik.1', 'Spironolakton.1', 'Ca antagonisti.1',\n       'Amiodaron.1', 'Propafen.1', 'Flekainid.1', 'Sotalol.1', 'Digoksin.1',\n       'ASA.1', 'OAKT.1', 'Plavix.1', 'Statin.1',\n       'Održavanje sinusnog ritma nakon godinu dana'],\n      dtype='object')"
     },
     "execution_count": 76,
     "metadata": {},
     "output_type": "execute_result"
    }
   ],
   "source": [
    "postojece_kolone = []\n",
    "def preimenuj(kol):\n",
    "    index = min([a for a in [99999, kol.find('  '), kol.find('0 - '), kol.find('1 - ')] if a > -1])\n",
    "    if index < 99999:\n",
    "        kol = kol[0:index].strip()\n",
    "    print(kol, kol in postojece_kolone)\n",
    "    if kol in postojece_kolone:\n",
    "        kol += '.1'\n",
    "    postojece_kolone.append(kol)\n",
    "    return kol\n",
    "data.columns = data.columns.map(preimenuj)\n",
    "data.columns"
   ]
  },
  {
   "cell_type": "code",
   "execution_count": 77,
   "metadata": {
    "pycharm": {
     "name": "#%%\n"
    }
   },
   "outputs": [
    {
     "name": "stdout",
     "output_type": "stream",
     "text": [
      "Ukupno pacijenata: 147\n",
      "Pacijenata sa uspesnom el. konv. (relevantni podaci): (130, 72)\n",
      "Pacijenata sa odrzanim ritmom posle god. (pozitivan ishod): (50, 72)\n"
     ]
    }
   ],
   "source": [
    "print('Ukupno pacijenata:', data.shape[0])\n",
    "\n",
    "relevant_data = data[data['Elektrokonverzija'] < 3]\n",
    "print('Pacijenata sa uspesnom el. konv. (relevantni podaci):', relevant_data.shape)\n",
    "print('Pacijenata sa odrzanim ritmom posle god. (pozitivan ishod):', relevant_data[relevant_data['Održavanje sinusnog ritma nakon godinu dana'] == 1].shape)\n",
    "\n",
    "# relevant_data_2 = relevant_data[pd.isna(relevant_data['Broj dana do javljanja AF'])]\n",
    "# print('Pacijenata sa uspesnom el. konv. i posle mesec dana', relevant_data_2.shape[0])"
   ]
  },
  {
   "cell_type": "code",
   "execution_count": 78,
   "metadata": {
    "pycharm": {
     "name": "#%%\n"
    }
   },
   "outputs": [],
   "source": [
    "# pd.set_option(\"display.max_rows\", None, \"display.max_columns\", None)\n",
    "# relevant_data"
   ]
  },
  {
   "cell_type": "markdown",
   "source": [
    "Formatiramo podatke mešovitih formata. Vidimo da sve kolone koje imaju mešovite podatke jesu\n",
    " one koje predstavljaju trajanje u mesecima. Konvertujemo podatke kao \"Od 2010\" u broj meseci\n",
    " poređenjem sa datumom elektrokonverzije."
   ],
   "metadata": {
    "collapsed": false
   }
  },
  {
   "cell_type": "code",
   "execution_count": 79,
   "metadata": {
    "pycharm": {
     "name": "#%%\n"
    }
   },
   "outputs": [
    {
     "data": {
      "text/plain": "Index(['ukupno trajanje AF (kada je prvi put dijagnostikovana) u mesecima',\n       'trajanje ove epizode AF u mesecima',\n       'Vreme u mesecima od ugradnje aparata do elektrokonverzije'],\n      dtype='object')"
     },
     "execution_count": 79,
     "metadata": {},
     "output_type": "execute_result"
    }
   ],
   "source": [
    "kolone_sa_mesanim_podacima = relevant_data.columns[np.where(relevant_data.dtypes == 'O')]\n",
    "kolone_sa_mesanim_podacima\n",
    "# Sve 3 kolone podrazumevaju broj meseci\n"
   ]
  },
  {
   "cell_type": "code",
   "execution_count": 80,
   "metadata": {
    "pycharm": {
     "name": "#%%\n"
    }
   },
   "outputs": [],
   "source": [
    "from datetime import datetime\n",
    "import re\n",
    "\n",
    "def izdvoj_mesece_iz_niske(x, datum):\n",
    "    od_search = re.search('[oO]d[a-z ]*(\\d{4})', x.lower()) # na jednom mestu piše \"0d2010\" sa nulom\n",
    "    if od_search:\n",
    "        godina = od_search.group(1)\n",
    "        return (datum - datetime(int(godina), 1, 1)).days // 30\n",
    "\n",
    "    god_search = re.search('(\\d+)\\s*god', x.lower())\n",
    "    if god_search: return int(god_search.group(1)) * 12\n",
    "\n",
    "    mesec_search = re.search('(\\d+)\\s*mesec', x.lower())\n",
    "    if mesec_search: return int(mesec_search.group(1))\n",
    "\n",
    "    dan_search = re.search('(\\d+)\\s*dan', x.lower())\n",
    "    if dan_search: return int(dan_search.group(1)) // 30\n",
    "\n",
    "    return -1\n",
    "\n",
    "# print(izdvoj_mesece_iz_niske('od2002', datetime(2014, 1, 21)))\n",
    "# print(izdvoj_mesece_iz_niske('od 2004', datetime(2014, 1, 21)))\n",
    "# print(izdvoj_mesece_iz_niske('5god', datetime(2014, 1, 21)))\n",
    "# print(izdvoj_mesece_iz_niske('1 godina', datetime(2014, 1, 21)))"
   ]
  },
  {
   "cell_type": "code",
   "execution_count": 81,
   "metadata": {
    "pycharm": {
     "name": "#%%\n"
    }
   },
   "outputs": [],
   "source": [
    "pd.options.mode.chained_assignment = None # dobijamo upozorenja zbog relevant_data = data[...]\n",
    "for index, row in relevant_data.iterrows():\n",
    "    for col in kolone_sa_mesanim_podacima:\n",
    "        val = relevant_data.loc[index, col]\n",
    "        new_val = val\n",
    "        datum = row['Datum elektrokonverzije']\n",
    "        if isinstance(val, int):\n",
    "            continue\n",
    "        elif isinstance(val, datetime):\n",
    "            new_val = (datum - val).days // 30\n",
    "        elif isinstance(val, str):\n",
    "            new_val = izdvoj_mesece_iz_niske(val, datum)\n",
    "        else:\n",
    "            new_val = -1\n",
    "            # print(val, new_val)\n",
    "        relevant_data.loc[index, col] = new_val"
   ]
  },
  {
   "cell_type": "markdown",
   "source": [
    "Na kraju izbacujemo datum jer nam više ne treba, a nije relevantan za klasifikaciju."
   ],
   "metadata": {
    "collapsed": false
   }
  },
  {
   "cell_type": "code",
   "execution_count": 82,
   "outputs": [],
   "source": [
    "relevant_data.drop(columns=['Datum elektrokonverzije'], inplace=True)"
   ],
   "metadata": {
    "collapsed": false,
    "pycharm": {
     "name": "#%%\n"
    }
   }
  },
  {
   "cell_type": "markdown",
   "source": [
    "Uklanjamo atribute kojima su sve vrednosti 0 jer ne utiču na klasifikaciju."
   ],
   "metadata": {
    "collapsed": false
   }
  },
  {
   "cell_type": "code",
   "execution_count": 83,
   "outputs": [
    {
     "data": {
      "text/plain": "['Digoksin.1']"
     },
     "execution_count": 83,
     "metadata": {},
     "output_type": "execute_result"
    }
   ],
   "source": [
    "columns_to_remove=[]\n",
    "for column in relevant_data.columns:\n",
    "    if(list(relevant_data[column]).count(0) == relevant_data.shape[0]):\n",
    "        columns_to_remove.append(column)\n",
    "columns_to_remove"
   ],
   "metadata": {
    "collapsed": false,
    "pycharm": {
     "name": "#%%\n"
    }
   }
  },
  {
   "cell_type": "code",
   "execution_count": 84,
   "outputs": [],
   "source": [
    "relevant_data = relevant_data.drop(columns_to_remove, axis=1)"
   ],
   "metadata": {
    "collapsed": false,
    "pycharm": {
     "name": "#%%\n"
    }
   }
  },
  {
   "cell_type": "markdown",
   "source": [
    "Proveravamo kolone sa NaN. Ručnom analizom procenjujemo da možemo da ih izbacimo ili popunimo nulama."
   ],
   "metadata": {
    "collapsed": false,
    "pycharm": {
     "name": "#%% md\n"
    }
   }
  },
  {
   "cell_type": "code",
   "execution_count": 85,
   "metadata": {
    "pycharm": {
     "name": "#%%\n"
    }
   },
   "outputs": [
    {
     "name": "stdout",
     "output_type": "stream",
     "text": [
      "ESD LK\n",
      "NYHA klasa (ukoliko ima HF)\n",
      "vrednost INR 2-3\n",
      "Implantiran CIED\n",
      "NEPOSREDNE KOMPLIKACIJE U VEZI SA ELEKTROKONVERZIJOM\n",
      "Održavanje sinusnog ritma nakon godinu dana\n"
     ]
    }
   ],
   "source": [
    "# Kolone sa NaN\n",
    "print('\\n'.join(relevant_data.columns[np.where(relevant_data.isna().any())]))\n",
    "\n",
    "# ESD LK                                                        TODO (1 red)\n",
    "# NYHA klasa (ukoliko ima HF)                                   Popuniti nulama jer nema HF\n",
    "# vrednost INR 2-3                                              Izbacujemo zbog korelacije sa podatkom OAKT=2 (19 redova)\n",
    "# Implantiran CIED                                              Popuniti nulama (2 reda)\n",
    "# NEPOSREDNE KOMPLIKACIJE U VEZI SA ELEKTROKONVERZIJOM          Popuniti nulama (1 red)\n",
    "# Održavanje sinusnog ritma nakon godinu dana                   Popuniti nulama\n",
    "\n",
    "relevant_data.drop(columns=['vrednost INR 2-3'], inplace=True)\n",
    "relevant_data.fillna(0, inplace=True)\n",
    "# relevant_data"
   ]
  },
  {
   "cell_type": "code",
   "execution_count": 86,
   "outputs": [],
   "source": [
    "relevant_data.to_csv('elektrokonverzija_obradjeno.csv')"
   ],
   "metadata": {
    "collapsed": false,
    "pycharm": {
     "name": "#%%\n"
    }
   }
  }
 ],
 "metadata": {
  "kernelspec": {
   "display_name": "Python 3",
   "language": "python",
   "name": "python3"
  },
  "language_info": {
   "codemirror_mode": {
    "name": "ipython",
    "version": 3
   },
   "file_extension": ".py",
   "mimetype": "text/x-python",
   "name": "python",
   "nbconvert_exporter": "python",
   "pygments_lexer": "ipython3",
   "version": "3.9.5"
  }
 },
 "nbformat": 4,
 "nbformat_minor": 1
}