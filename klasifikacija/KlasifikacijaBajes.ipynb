{
 "cells": [
  {
   "cell_type": "code",
   "execution_count": 35,
   "metadata": {
    "collapsed": true
   },
   "outputs": [
    {
     "name": "stdout",
     "output_type": "stream",
     "text": [
      "Index(['stariji od 65', 'Pol', 'Datum elektrokonverzije',\n",
      "       'indikacija: perzistentna',\n",
      "       'ukupno trajanje AF (kada je prvi put dijagnostikovana) u mesecima',\n",
      "       'trajanje ove epizode AF u mesecima',\n",
      "       'frekvenca komora na prijemnom EKG-u', 'Blok grane', 'dimenzija LPK',\n",
      "       'EDD LK', 'ESD LK', 'EF LK', 'MR', 'TR', 'HTA', 'DM', 'HLP', 'HOBP',\n",
      "       'pušenje', 'Hereditet za KVB', 'ishemijska bolest srca', 'HF',\n",
      "       'NYHA klasa (ukoliko ima HF)', 'Prethodni TIA/CVI', 'HBI', 'CHADS-Vasc',\n",
      "       'poremećaj f-je štitaste žlezde', 'dosadašnje elektrokonverzije',\n",
      "       'SCD (Structural heart disease)', 'Beta blokatori', 'ACE inhibitori',\n",
      "       'ARB', 'Furosemid (ne - 0)', 'Drugi diuretik', 'Spironolakton',\n",
      "       'Ca antagonisti', 'Amiodaron', 'Propafen', 'Flekainid', 'Sotalol',\n",
      "       'Digoksin', 'ASA', 'OAKT', 'Plavix', 'Statin', 'Implantiran CIED',\n",
      "       'Vreme u mesecima od ugradnje aparata do elektrokonverzije',\n",
      "       'sinhroni, bifazni DC šok', 'Elektrokonverzija',\n",
      "       'jačina struje sa kojom je učinjena uspešna konverzija',\n",
      "       'uspešnom šoku je prethodilo neuspešnih šokova:',\n",
      "       'NEPOSREDNE KOMPLIKACIJE U VEZI SA ELEKTROKONVERZIJOM',\n",
      "       'Beta blokatori.1', 'ACE inhibitori.1', 'ARB.1', 'Furosemid (ne - 0).1',\n",
      "       'Drugi diuretik.1', 'Spironolakton.1', 'Ca antagonisti.1',\n",
      "       'Amiodaron.1', 'Propafen.1', 'Flekainid.1', 'Sotalol.1', 'Digoksin.1',\n",
      "       'ASA.1', 'OAKT.1', 'Plavix.1', 'Statin.1',\n",
      "       'Održavanje sinusnog ritma nakon godinu dana'],\n",
      "      dtype='object')\n"
     ]
    }
   ],
   "source": [
    "import pandas as pd\n",
    "import numpy as np\n",
    "data = pd.read_csv('./elektrokonverzija_obradjeno.csv', index_col=0)\n",
    "print(data.columns)"
   ]
  },
  {
   "cell_type": "code",
   "execution_count": 36,
   "outputs": [
    {
     "name": "stdout",
     "output_type": "stream",
     "text": [
      "+---------------------------------------------+--------------------------------------------------+--------------------------------------------------+\n",
      "| Održavanje sinusnog ritma nakon godinu dana | Održavanje sinusnog ritma nakon godinu dana(0.0) | Održavanje sinusnog ritma nakon godinu dana(1.0) |\n",
      "+---------------------------------------------+--------------------------------------------------+--------------------------------------------------+\n",
      "| Pol(1)                                      | 0.6153846153846154                               | 0.66                                             |\n",
      "+---------------------------------------------+--------------------------------------------------+--------------------------------------------------+\n",
      "| Pol(2)                                      | 0.38461538461538464                              | 0.34                                             |\n",
      "+---------------------------------------------+--------------------------------------------------+--------------------------------------------------+\n"
     ]
    }
   ],
   "source": [
    "from pgmpy.models import BayesianModel\n",
    "\n",
    "kolone_za_predikciju = data.columns[:-1]\n",
    "kolona_predikcije = data.columns[-1]\n",
    "\n",
    "model = BayesianModel([(kolona_predikcije, att) for att in kolone_za_predikciju])\n",
    "\n",
    "from pgmpy.estimators import BayesianEstimator, MaximumLikelihoodEstimator\n",
    "\n",
    "model.fit(\n",
    "    data=data,\n",
    "    estimator=BayesianEstimator,\n",
    "    prior_type=\"BDeu\",\n",
    "    equivalent_sample_size=100,\n",
    "    complete_samples_only=False\n",
    ")\n",
    "\n",
    "print(model.get_cpds()[2])"
   ],
   "metadata": {
    "collapsed": false,
    "pycharm": {
     "name": "#%%\n"
    }
   }
  },
  {
   "cell_type": "code",
   "execution_count": 37,
   "outputs": [],
   "source": [
    "from pgmpy.inference import VariableElimination\n",
    "inference = VariableElimination(model)\n",
    "\n",
    "y = []\n",
    "y_pred = []\n",
    "\n",
    "for index, row in data.iterrows():\n",
    "    y.append(row[kolona_predikcije])\n",
    "\n",
    "    ev = {}\n",
    "    for att in kolone_za_predikciju:\n",
    "        ev[att] = data.loc[0, att]\n",
    "    y_pred.append(inference.map_query([kolona_predikcije], evidence=ev, show_progress=False)[kolona_predikcije])"
   ],
   "metadata": {
    "collapsed": false,
    "pycharm": {
     "name": "#%%\n"
    }
   }
  },
  {
   "cell_type": "code",
   "execution_count": 38,
   "outputs": [
    {
     "data": {
      "text/plain": "array([[ 0, 80],\n       [ 0, 50]])"
     },
     "execution_count": 38,
     "metadata": {},
     "output_type": "execute_result"
    }
   ],
   "source": [
    "from sklearn.metrics import confusion_matrix\n",
    "confusion_matrix(y, y_pred)"
   ],
   "metadata": {
    "collapsed": false,
    "pycharm": {
     "name": "#%%\n"
    }
   }
  }
 ],
 "metadata": {
  "kernelspec": {
   "display_name": "Python 3",
   "language": "python",
   "name": "python3"
  },
  "language_info": {
   "codemirror_mode": {
    "name": "ipython",
    "version": 2
   },
   "file_extension": ".py",
   "mimetype": "text/x-python",
   "name": "python",
   "nbconvert_exporter": "python",
   "pygments_lexer": "ipython2",
   "version": "2.7.6"
  }
 },
 "nbformat": 4,
 "nbformat_minor": 0
}