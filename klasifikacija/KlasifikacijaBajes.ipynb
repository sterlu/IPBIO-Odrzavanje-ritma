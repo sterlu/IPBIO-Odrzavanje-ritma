{
 "cells": [
  {
   "cell_type": "markdown",
   "source": [
    "## Problem"
   ],
   "metadata": {
    "collapsed": false
   }
  },
  {
   "cell_type": "markdown",
   "source": [
    "Na raspolaganju nam je skup podataka o pacijentima koji su imali uspešnu terapiju elektrokonverzijom. Naš zadatak je da napravimo klasifikacioni model koji predviđa da li će se sinusni ritam rada srca pacijenta održati i nakon godinu dana od terapije.\n",
    "Osnovni pristup podrazumeva kreiranje modela Bajesovske mreže."
   ],
   "metadata": {
    "collapsed": false
   }
  },
  {
   "cell_type": "markdown",
   "source": [
    "## Učitavanje podataka"
   ],
   "metadata": {
    "collapsed": false
   }
  },
  {
   "cell_type": "code",
   "execution_count": 51,
   "metadata": {
    "collapsed": true
   },
   "outputs": [
    {
     "name": "stdout",
     "output_type": "stream",
     "text": [
      "Index(['Broj', 'godine starosti', 'stariji od 65', 'Pol',\n",
      "       'indikacija: perzistentna',\n",
      "       'ukupno trajanje AF (kada je prvi put dijagnostikovana) u mesecima',\n",
      "       'trajanje ove epizode AF u mesecima',\n",
      "       'frekvenca komora na prijemnom EKG-u', 'Blok grane', 'dimenzija LPK',\n",
      "       'EDD LK', 'ESD LK', 'EF LK', 'MR', 'TR', 'HTA', 'DM', 'HLP', 'HOBP',\n",
      "       'pušenje', 'Hereditet za KVB', 'ishemijska bolest srca', 'HF',\n",
      "       'NYHA klasa (ukoliko ima HF)', 'Prethodni TIA/CVI', 'HBI', 'CHADS-Vasc',\n",
      "       'poremećaj f-je štitaste žlezde', 'dosadašnje elektrokonverzije',\n",
      "       'SCD (Structural heart disease)', 'Beta blokatori', 'ACE inhibitori',\n",
      "       'ARB', 'Furosemid (ne - 0)', 'Drugi diuretik', 'Spironolakton',\n",
      "       'Ca antagonisti', 'Amiodaron', 'Propafen', 'Flekainid', 'Sotalol',\n",
      "       'Digoksin', 'ASA', 'OAKT', 'Plavix', 'Statin', 'Implantiran CIED',\n",
      "       'Vreme u mesecima od ugradnje aparata do elektrokonverzije',\n",
      "       'sinhroni, bifazni DC šok', 'Elektrokonverzija',\n",
      "       'jačina struje sa kojom je učinjena uspešna konverzija',\n",
      "       'uspešnom šoku je prethodilo neuspešnih šokova:',\n",
      "       'NEPOSREDNE KOMPLIKACIJE U VEZI SA ELEKTROKONVERZIJOM',\n",
      "       'Beta blokatori.1', 'ACE inhibitori.1', 'ARB.1', 'Furosemid (ne - 0).1',\n",
      "       'Drugi diuretik.1', 'Spironolakton.1', 'Ca antagonisti.1',\n",
      "       'Amiodaron.1', 'Propafen.1', 'Flekainid.1', 'Sotalol.1', 'ASA.1',\n",
      "       'OAKT.1', 'Plavix.1', 'Statin.1',\n",
      "       'Održavanje sinusnog ritma nakon godinu dana'],\n",
      "      dtype='object')\n"
     ]
    }
   ],
   "source": [
    "import pandas as pd\n",
    "import numpy as np\n",
    "data = pd.read_csv('./elektrokonverzija_obradjeno.csv', index_col=0)\n",
    "print(data.columns)"
   ]
  },
  {
   "cell_type": "markdown",
   "source": [
    "### Podela podataka na skup za trening i skup za test"
   ],
   "metadata": {
    "collapsed": false
   }
  },
  {
   "cell_type": "markdown",
   "source": [
    "Skup podataka delimo na skup za trening modela i skup za testiranje modela.\n",
    "Argument random_state ima vrednost 0 da bi se svaku put dobio isto podeljen skup, kako bismo mogli da upoređujemo modele. Argument stratifz ima vrednost ciljne promenljive kako bi raspodela podataka u trening i test skupu ostala probližno ista kao u početnom skupu."
   ],
   "metadata": {
    "collapsed": false
   }
  },
  {
   "cell_type": "markdown",
   "source": [
    "### Procena kvaliteta modela"
   ],
   "metadata": {
    "collapsed": false
   }
  },
  {
   "cell_type": "markdown",
   "source": [
    "Prilikom procene kvaliteta modela razmatraćemo izveštaj klasifikacije, matricu konfuzije (koja u vidu toplotne mape prikazuje koliko je elemenata koje klase dobro klasifikovano, a koliko loše), i ROC krivu (površina ispod krive je mera uspeha binarnog klasifikatora)."
   ],
   "metadata": {
    "collapsed": false
   }
  },
  {
   "cell_type": "code",
   "execution_count": 52,
   "outputs": [],
   "source": [
    "from sklearn.model_selection import train_test_split\n",
    "import matplotlib.pyplot as plt\n",
    "from sklearn.metrics import roc_curve, auc, RocCurveDisplay, confusion_matrix, ConfusionMatrixDisplay, classification_report\n",
    "from sklearn.utils.multiclass import unique_labels\n",
    "from pgmpy.inference import VariableElimination\n",
    "from pgmpy.models import BayesianModel"
   ],
   "metadata": {
    "collapsed": false,
    "pycharm": {
     "name": "#%%\n"
    }
   }
  },
  {
   "cell_type": "code",
   "execution_count": 53,
   "outputs": [],
   "source": [
    "# train_data, test_data = train_test_split(data, random_state=0, stratify=Y, test_size=0.3)\n",
    "\n",
    "kolone_za_predikciju = data.columns[:-1]\n",
    "kolona_predikcije = data.columns[-1]\n"
   ],
   "metadata": {
    "collapsed": false,
    "pycharm": {
     "name": "#%%\n"
    }
   }
  },
  {
   "cell_type": "code",
   "execution_count": 54,
   "outputs": [],
   "source": [
    "def klasifikuj(model, _test_data):\n",
    "    inference = VariableElimination(model)\n",
    "\n",
    "    y = []\n",
    "    y_pred = []\n",
    "\n",
    "    for index, row in _test_data.iterrows():\n",
    "        y.append(row[kolona_predikcije])\n",
    "        ev = {}\n",
    "        for att in kolone_za_predikciju:\n",
    "            ev[att] = data.loc[0, att]\n",
    "        y_pred.append(inference.map_query([kolona_predikcije], evidence=ev, show_progress=False)[kolona_predikcije])\n",
    "\n",
    "    fig, (ax1, ax2) = plt.subplots(1, 2, figsize=(15, 4))\n",
    "\n",
    "    # plot_confusion_matrix(model, X_test, Y_test, ax=ax1, cmap=plt.cm.Blues, colorbar=False)\n",
    "    cm = confusion_matrix(y, y_pred)\n",
    "    display_labels = unique_labels(y, y_pred)\n",
    "\n",
    "    disp = ConfusionMatrixDisplay(confusion_matrix=cm, display_labels=display_labels)\n",
    "    disp.plot(include_values=True, cmap=plt.cm.Blues, ax=ax1, xticks_rotation='horizontal', colorbar=False)\n",
    "    ax1.set_xlabel('Predviđeno')\n",
    "    ax1.set_ylabel('Stvarno')\n",
    "    ax1.set_title('Matrica konfuzije')\n",
    "\n",
    "    fpr, tpr, _ = roc_curve(y, y_pred, pos_label=False)\n",
    "    roc_auc = auc(fpr, tpr)\n",
    "\n",
    "    viz = RocCurveDisplay(\n",
    "        fpr=fpr,\n",
    "        tpr=tpr,\n",
    "        roc_auc=roc_auc,\n",
    "        # estimator_name=name,\n",
    "        pos_label=False\n",
    "    )\n",
    "\n",
    "    viz.plot(ax=ax2)\n",
    "    ax2.set_xlabel('Stopa lažno neuspešnih')\n",
    "    ax2.set_ylabel('Stopa stvarno neuspešnih')\n",
    "    ax2.set_title('ROC kriva neuspešnih')\n",
    "    ax2.legend(loc='lower right')\n",
    "\n",
    "    plt.show()\n",
    "\n",
    "    return model"
   ],
   "metadata": {
    "collapsed": false,
    "pycharm": {
     "name": "#%%\n"
    }
   }
  },
  {
   "cell_type": "code",
   "execution_count": 55,
   "outputs": [
    {
     "data": {
      "text/plain": "<Figure size 1080x288 with 2 Axes>",
      "image/png": "[encoded data removed]"
     },
     "metadata": {
      "needs_background": "light"
     },
     "output_type": "display_data"
    },
    {
     "data": {
      "text/plain": "<pgmpy.models.BayesianModel.BayesianModel at 0x7fd62a26fb20>"
     },
     "execution_count": 55,
     "metadata": {},
     "output_type": "execute_result"
    }
   ],
   "source": [
    "train_data, test_data = train_test_split(data, random_state=0, stratify=data[kolona_predikcije], test_size=0.3)\n",
    "\n",
    "model = BayesianModel([(kolona_predikcije, att) for att in kolone_za_predikciju])\n",
    "\n",
    "from pgmpy.estimators import BayesianEstimator, MaximumLikelihoodEstimator\n",
    "\n",
    "model.fit(\n",
    "    data=train_data,\n",
    "    estimator=BayesianEstimator,\n",
    "    prior_type=\"BDeu\",\n",
    "    equivalent_sample_size=100,\n",
    "    complete_samples_only=False\n",
    ")\n",
    "\n",
    "klasifikuj(model, test_data)"
   ],
   "metadata": {
    "collapsed": false,
    "pycharm": {
     "name": "#%%\n"
    }
   }
  },
  {
   "cell_type": "code",
   "execution_count": 56,
   "outputs": [],
   "source": [
    "# scaled_test_data = (test_data-data.mean())/data.std()\n",
    "# scaled_train_data = (train_data-data.mean())/data.std()\n",
    "# scaled_train_data"
   ],
   "metadata": {
    "collapsed": false,
    "pycharm": {
     "name": "#%%\n"
    }
   }
  },
  {
   "cell_type": "code",
   "execution_count": 57,
   "outputs": [],
   "source": [
    "# model_sa_skaliranim = BayesianModel([(kolona_predikcije, att) for att in kolone_za_predikciju])\n",
    "#\n",
    "# model_sa_skaliranim.fit(\n",
    "#     data=scaled_train_data,\n",
    "#     estimator=BayesianEstimator,\n",
    "#     prior_type=\"BDeu\",\n",
    "#     # equivalent_sample_size=100,\n",
    "#     complete_samples_only=False\n",
    "# )\n",
    "# klasifikuj(model_sa_skaliranim, scaled_test_data)"
   ],
   "metadata": {
    "collapsed": false,
    "pycharm": {
     "name": "#%%\n"
    }
   }
  }
 ],
 "metadata": {
  "kernelspec": {
   "display_name": "Python 3",
   "language": "python",
   "name": "python3"
  },
  "language_info": {
   "codemirror_mode": {
    "name": "ipython",
    "version": 2
   },
   "file_extension": ".py",
   "mimetype": "text/x-python",
   "name": "python",
   "nbconvert_exporter": "python",
   "pygments_lexer": "ipython2",
   "version": "2.7.6"
  }
 },
 "nbformat": 4,
 "nbformat_minor": 0
}